{
 "cells": [
  {
   "cell_type": "code",
   "execution_count": 15,
   "id": "0db5a4b4",
   "metadata": {},
   "outputs": [
    {
     "name": "stdout",
     "output_type": "stream",
     "text": [
      "25\n",
      "-5\n",
      "0.6666666666666666\n",
      "0\n",
      "150\n"
     ]
    }
   ],
   "source": [
    "a = 10\n",
    "b = 15\n",
    "print(a+b)\n",
    "print(a-b)\n",
    "print(a/b)\n",
    "print(a//b)\n",
    "print(a*b)\n"
   ]
  },
  {
   "cell_type": "code",
   "execution_count": 16,
   "id": "d17b1cd2",
   "metadata": {},
   "outputs": [],
   "source": [
    "x = 5\n",
    "x += 2\n"
   ]
  },
  {
   "cell_type": "code",
   "execution_count": 17,
   "id": "42e97862",
   "metadata": {},
   "outputs": [
    {
     "name": "stdout",
     "output_type": "stream",
     "text": [
      "7\n"
     ]
    }
   ],
   "source": [
    "print(x)"
   ]
  },
  {
   "cell_type": "code",
   "execution_count": 18,
   "id": "5b327491",
   "metadata": {},
   "outputs": [
    {
     "name": "stdout",
     "output_type": "stream",
     "text": [
      "25\n"
     ]
    }
   ],
   "source": [
    "y = 5\n",
    "y *= 5\n",
    "print(y)\n"
   ]
  },
  {
   "cell_type": "code",
   "execution_count": 19,
   "id": "d92786a2",
   "metadata": {},
   "outputs": [
    {
     "name": "stdout",
     "output_type": "stream",
     "text": [
      "a is b\n"
     ]
    }
   ],
   "source": [
    "a = 52\n",
    "b = 45\n",
    "print(\"a is b\")\n"
   ]
  },
  {
   "cell_type": "code",
   "execution_count": 20,
   "id": "e8d8a897",
   "metadata": {},
   "outputs": [
    {
     "data": {
      "text/plain": [
       "False"
      ]
     },
     "execution_count": 20,
     "metadata": {},
     "output_type": "execute_result"
    }
   ],
   "source": [
    "a = 5\n",
    "b = 10\n",
    "c = 15\n",
    "a>b and a<c\n"
   ]
  },
  {
   "cell_type": "code",
   "execution_count": 21,
   "id": "68fb139a",
   "metadata": {},
   "outputs": [
    {
     "data": {
      "text/plain": [
       "True"
      ]
     },
     "execution_count": 21,
     "metadata": {},
     "output_type": "execute_result"
    }
   ],
   "source": [
    "a = 5\n",
    "b = 10\n",
    "c = 15\n",
    "a>b or a<c"
   ]
  },
  {
   "cell_type": "code",
   "execution_count": 22,
   "id": "98f4927d",
   "metadata": {},
   "outputs": [
    {
     "data": {
      "text/plain": [
       "True"
      ]
     },
     "execution_count": 22,
     "metadata": {},
     "output_type": "execute_result"
    }
   ],
   "source": [
    "a = 5\n",
    "b = 10\n",
    "c = 15\n",
    "not a>b or a<c\n"
   ]
  },
  {
   "cell_type": "code",
   "execution_count": 23,
   "id": "78ca4677",
   "metadata": {},
   "outputs": [
    {
     "data": {
      "text/plain": [
       "False"
      ]
     },
     "execution_count": 23,
     "metadata": {},
     "output_type": "execute_result"
    }
   ],
   "source": [
    "a = 5\n",
    "b = 10\n",
    "a is b "
   ]
  },
  {
   "cell_type": "code",
   "execution_count": 24,
   "id": "0a65bc6a",
   "metadata": {},
   "outputs": [
    {
     "data": {
      "text/plain": [
       "False"
      ]
     },
     "execution_count": 24,
     "metadata": {},
     "output_type": "execute_result"
    }
   ],
   "source": [
    "a = 5\n",
    "b = 10\n",
    "a==b"
   ]
  },
  {
   "cell_type": "code",
   "execution_count": 25,
   "id": "6f4c1592",
   "metadata": {},
   "outputs": [
    {
     "data": {
      "text/plain": [
       "True"
      ]
     },
     "execution_count": 25,
     "metadata": {},
     "output_type": "execute_result"
    }
   ],
   "source": [
    "a = 5\n",
    "b = 10\n",
    "a is not b "
   ]
  },
  {
   "cell_type": "code",
   "execution_count": 26,
   "id": "e03e6fb4",
   "metadata": {},
   "outputs": [
    {
     "data": {
      "text/plain": [
       "True"
      ]
     },
     "execution_count": 26,
     "metadata": {},
     "output_type": "execute_result"
    }
   ],
   "source": [
    "a = 5\n",
    "b = 10\n",
    "c = 15\n",
    "not a>b or a<c"
   ]
  },
  {
   "cell_type": "markdown",
   "id": "ac721ab9",
   "metadata": {},
   "source": [
    "#    Membership Operator\n",
    "\n"
   ]
  },
  {
   "cell_type": "code",
   "execution_count": 1,
   "id": "32a6b60b",
   "metadata": {},
   "outputs": [
    {
     "name": "stdout",
     "output_type": "stream",
     "text": [
      "('apple', 'mango', 'cherry', 'banana', 'grapes')\n"
     ]
    }
   ],
   "source": [
    "fruits = ('apple', 'mango', 'cherry','banana','grapes')\n",
    "print(fruits)"
   ]
  },
  {
   "cell_type": "code",
   "execution_count": 11,
   "id": "b1add72c",
   "metadata": {},
   "outputs": [
    {
     "data": {
      "text/plain": [
       "False"
      ]
     },
     "execution_count": 11,
     "metadata": {},
     "output_type": "execute_result"
    }
   ],
   "source": [
    "'guava' in fruits"
   ]
  },
  {
   "cell_type": "code",
   "execution_count": 12,
   "id": "36b293b6",
   "metadata": {},
   "outputs": [
    {
     "data": {
      "text/plain": [
       "True"
      ]
     },
     "execution_count": 12,
     "metadata": {},
     "output_type": "execute_result"
    }
   ],
   "source": [
    "'avacado' not in fruits"
   ]
  },
  {
   "cell_type": "code",
   "execution_count": 16,
   "id": "b897b90f",
   "metadata": {},
   "outputs": [
    {
     "name": "stdout",
     "output_type": "stream",
     "text": [
      "She is Gorgeous!!!\n"
     ]
    }
   ],
   "source": [
    "String =  \"She is Gorgeous!!!\"\n",
    "print(String)"
   ]
  },
  {
   "cell_type": "code",
   "execution_count": 17,
   "id": "cbe6f4ae",
   "metadata": {},
   "outputs": [
    {
     "name": "stdout",
     "output_type": "stream",
     "text": [
      "She is HumbleShe is Gorgeous!!!\n"
     ]
    }
   ],
   "source": [
    "Content = \"She is Humble\"\n",
    "Line = Content + String\n",
    "print(Line)\n"
   ]
  },
  {
   "cell_type": "markdown",
   "id": "4a9ad23f",
   "metadata": {},
   "source": [
    "#   Datatypes in Python"
   ]
  },
  {
   "cell_type": "markdown",
   "id": "45b44cd3",
   "metadata": {},
   "source": [
    "-   int\n",
    "-   float\n",
    "-   String\n",
    "-   tuple\n",
    "-   list\n",
    "-   set\n",
    "-   dict\n",
    "-   bool\n",
    "-   None"
   ]
  },
  {
   "cell_type": "markdown",
   "id": "f4f9c585",
   "metadata": {},
   "source": [
    "# Integer "
   ]
  },
  {
   "cell_type": "code",
   "execution_count": 5,
   "id": "95d4f4ed",
   "metadata": {},
   "outputs": [
    {
     "name": "stdout",
     "output_type": "stream",
     "text": [
      "36\n"
     ]
    }
   ],
   "source": [
    "x =  1\n",
    "y =  35\n",
    "z = x + y\n",
    "print  (z)"
   ]
  },
  {
   "cell_type": "markdown",
   "id": "abc862f7",
   "metadata": {},
   "source": [
    "# Float"
   ]
  },
  {
   "cell_type": "code",
   "execution_count": 7,
   "id": "839675bf",
   "metadata": {},
   "outputs": [
    {
     "name": "stdout",
     "output_type": "stream",
     "text": [
      "0.10000000000000009\n"
     ]
    }
   ],
   "source": [
    "x = 1.10\n",
    "y = 1.0\n",
    "z = x-y\n",
    "print(z)"
   ]
  }
 ],
 "metadata": {
  "kernelspec": {
   "display_name": "base",
   "language": "python",
   "name": "python3"
  },
  "language_info": {
   "codemirror_mode": {
    "name": "ipython",
    "version": 3
   },
   "file_extension": ".py",
   "mimetype": "text/x-python",
   "name": "python",
   "nbconvert_exporter": "python",
   "pygments_lexer": "ipython3",
   "version": "3.13.2"
  }
 },
 "nbformat": 4,
 "nbformat_minor": 5
}
