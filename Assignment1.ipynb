{
 "cells": [
  {
   "cell_type": "markdown",
   "id": "c205c264",
   "metadata": {},
   "source": [
    "#  Assignment 1:"
   ]
  },
  {
   "cell_type": "markdown",
   "id": "c961d9a4",
   "metadata": {},
   "source": [
    " 1. Check whether the two sides of triangle is equal or not."
   ]
  },
  {
   "cell_type": "code",
   "execution_count": 16,
   "id": "cd9677d6",
   "metadata": {},
   "outputs": [
    {
     "name": "stdout",
     "output_type": "stream",
     "text": [
      "8.0\n",
      "5.0\n",
      "The two sides of triangle are not equal!!!\n"
     ]
    }
   ],
   "source": [
    "# take input from the user\n",
    "# take input as the length of both the sides of triangle\n",
    "\n",
    "Side1 = float(input(\"Enter the length of Side1 of triangle\"))\n",
    "print(Side1)\n",
    "Side2 = float(input(\"Enter the length of Side2 of triangle\"))\n",
    "print(Side2)\n",
    "# double equal operator checks the equality between two operands\n",
    "if (Side1 == Side2):\n",
    "    print(\"The two sides of triangle are equal!!!\")\n",
    "else:\n",
    "    print(\"The two sides of triangle are not equal!!!\")\n"
   ]
  },
  {
   "cell_type": "markdown",
   "id": "ac5996a9",
   "metadata": {},
   "source": [
    "2. Check whether a triangle is equilateral triangle or isosceles triangle."
   ]
  },
  {
   "cell_type": "code",
   "execution_count": 17,
   "id": "c46b49e3",
   "metadata": {},
   "outputs": [
    {
     "name": "stdout",
     "output_type": "stream",
     "text": [
      "5\n",
      "8\n",
      "5\n",
      "Isosceles triangle\n"
     ]
    }
   ],
   "source": [
    "# take input as the length of triangle from the user\n",
    "\n",
    "X = int(input(\"Enter the length of Side1 of triangle\"))\n",
    "print(X)\n",
    "Y = int(input(\"Enter the length of Side2 of triangle\"))\n",
    "print(Y)\n",
    "Z = int(input(\"Enter the length of Side3 of triangle\"))\n",
    "print(Z)\n",
    "\n",
    "# check the condition to determine the type of triangle on the basis of the length of it's sides\n",
    "\n",
    "if (X == Y == Z):\n",
    "    print(\"Equilateral triangle\")\n",
    "elif (X==Y or Y==Z or Z==X):\n",
    "    print(\"Isosceles triangle\")\n",
    "else:\n",
    "    print(\"Scalene triangle\")\n",
    "    "
   ]
  },
  {
   "cell_type": "markdown",
   "id": "f7d2f4fd",
   "metadata": {},
   "source": [
    "3. Check whether a character entered by a user is vowel or not."
   ]
  },
  {
   "cell_type": "code",
   "execution_count": 15,
   "id": "291078e6",
   "metadata": {},
   "outputs": [
    {
     "name": "stdout",
     "output_type": "stream",
     "text": [
      "Entered character is vowel i\n"
     ]
    }
   ],
   "source": [
    "# input a character from the user\n",
    "ch = input(\"Enter a Character:\")\n",
    "Vowels = ('a','e','i','o','u')\n",
    "\n",
    "# check the condition that entered character is vowel or not\n",
    "# we are using membership operator here\n",
    "\n",
    "if (ch in Vowels):\n",
    "    print(\"Entered character is vowel\", ch)\n",
    "else:\n",
    "    print(ch, \"Entered character is not vowel\", ch)\n"
   ]
  },
  {
   "cell_type": "markdown",
   "id": "ef0e2594",
   "metadata": {},
   "source": [
    "4. Check whether a year is leap year or not."
   ]
  },
  {
   "cell_type": "code",
   "execution_count": 14,
   "id": "f0bd41bf",
   "metadata": {},
   "outputs": [
    {
     "name": "stdout",
     "output_type": "stream",
     "text": [
      "Year isn't a leap year 2025\n"
     ]
    }
   ],
   "source": [
    "# input a Year from the user\n",
    "\n",
    "Year = int(input(\"Enter a Year you want\"))\n",
    "\n",
    "# check the condition that entered year is leap year or not\n",
    "\n",
    "if ( Year % 4 == 0 and Year % 100!= 0 or Year % 400 == 0):\n",
    "    print(\"Year is leap year\",Year)\n",
    "else:\n",
    "    print(\"Year isn't a leap year\", Year)"
   ]
  },
  {
   "cell_type": "markdown",
   "id": "02deae4c",
   "metadata": {},
   "source": [
    "5. Check whether a number is even or odd."
   ]
  },
  {
   "cell_type": "code",
   "execution_count": 13,
   "id": "e640fa13",
   "metadata": {},
   "outputs": [
    {
     "name": "stdout",
     "output_type": "stream",
     "text": [
      "Entered number is even 78\n"
     ]
    }
   ],
   "source": [
    "# input a number from the user\n",
    "\n",
    "Num = int(input(\"Enter any number you want\"))\n",
    "\n",
    "# check the condition that the entered number is even or not\n",
    "\n",
    "if ( Num % 2 ==0):\n",
    "    print(\"Entered number is even\",Num)\n",
    "else:\n",
    "    print(\"Entered number is odd\", Num)\n",
    "\n",
    "\n"
   ]
  },
  {
   "cell_type": "markdown",
   "id": "f079878f",
   "metadata": {},
   "source": [
    "6. Calculate the gross salary of an employee where the basic salary is 50000, HRA is 5% of basic salary and DA is 10% of basic salary."
   ]
  },
  {
   "cell_type": "code",
   "execution_count": 12,
   "id": "71dbac8e",
   "metadata": {},
   "outputs": [
    {
     "name": "stdout",
     "output_type": "stream",
     "text": [
      "The Gross Salary of an employee is: 80000.0\n"
     ]
    }
   ],
   "source": [
    "# basic salary is given - 50000\n",
    "\n",
    "basic_salary = 50000\n",
    "\n",
    "# HRA is 5% of basic salary\n",
    "# DA is 10% of basic salary\n",
    "\n",
    "HRA = 0.5* basic_salary\n",
    "DA = 0.1* basic_salary\n",
    "Gross_salary = basic_salary + HRA + DA\n",
    "print (\"The Gross Salary of an employee is:\", Gross_salary)\n",
    "\n",
    "\n"
   ]
  }
 ],
 "metadata": {
  "kernelspec": {
   "display_name": "base",
   "language": "python",
   "name": "python3"
  },
  "language_info": {
   "codemirror_mode": {
    "name": "ipython",
    "version": 3
   },
   "file_extension": ".py",
   "mimetype": "text/x-python",
   "name": "python",
   "nbconvert_exporter": "python",
   "pygments_lexer": "ipython3",
   "version": "3.13.2"
  }
 },
 "nbformat": 4,
 "nbformat_minor": 5
}
