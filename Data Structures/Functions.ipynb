{
 "cells": [
  {
   "cell_type": "markdown",
   "id": "d5947548",
   "metadata": {},
   "source": [
    "# Functions:"
   ]
  },
  {
   "cell_type": "markdown",
   "id": "0c120997",
   "metadata": {},
   "source": [
    "Functions are a piece of code that provides reusability in the code to the user."
   ]
  },
  {
   "cell_type": "markdown",
   "id": "5d536966",
   "metadata": {},
   "source": [
    "# Types of Functions:\n",
    "\n",
    "- User defined functions\n",
    "  - Parameterized Function\n",
    "  - Non Parameterized Function\n",
    "  -  return function\n",
    "  - non return function\n",
    "  - Default Parameterized Function\n",
    "  - Lamda Function\n",
    "\n",
    "- Built in Functions  "
   ]
  },
  {
   "cell_type": "code",
   "execution_count": 6,
   "id": "e0bf325f",
   "metadata": {},
   "outputs": [
    {
     "name": "stdout",
     "output_type": "stream",
     "text": [
      "Hello\n",
      "How are you?\n",
      "I am good thankyou\n"
     ]
    }
   ],
   "source": [
    "\n",
    "#non parameterized function\n",
    "def greet():            #Function Initialize\n",
    "    print(\"Hello\")\n",
    "    print(\"How are you?\")\n",
    "    print(\"I am good thankyou\")\n",
    "\n",
    "greet() #function calling"
   ]
  },
  {
   "cell_type": "code",
   "execution_count": 7,
   "id": "d877e270",
   "metadata": {},
   "outputs": [],
   "source": [
    "a = 10\n",
    "b = 5\n"
   ]
  },
  {
   "cell_type": "code",
   "execution_count": 8,
   "id": "76577eb0",
   "metadata": {},
   "outputs": [
    {
     "name": "stdout",
     "output_type": "stream",
     "text": [
      "15\n"
     ]
    }
   ],
   "source": [
    "def sum():\n",
    "    print(a+b)\n",
    "sum()"
   ]
  },
  {
   "cell_type": "code",
   "execution_count": 1,
   "id": "a5502512",
   "metadata": {},
   "outputs": [
    {
     "name": "stdout",
     "output_type": "stream",
     "text": [
      "15\n"
     ]
    }
   ],
   "source": [
    "#Parameterized Function\n",
    "def sum(a,b): #parameters\n",
    "    print(a+b)\n",
    "\n",
    "sum(5,10) #arguments"
   ]
  },
  {
   "cell_type": "code",
   "execution_count": 4,
   "id": "8e580531",
   "metadata": {},
   "outputs": [
    {
     "name": "stdout",
     "output_type": "stream",
     "text": [
      "Not Eligible to vote\n"
     ]
    }
   ],
   "source": [
    "#Parameterized Function\n",
    "def voting_eligibility(age):\n",
    "\n",
    "    if age >=18:\n",
    "        print(\"Eligible to vote\")\n",
    "    else:\n",
    "        print(\"Not Eligible to vote\")\n",
    "    \n",
    "voting_eligibility(16)\n",
    "\n",
    "    "
   ]
  },
  {
   "cell_type": "code",
   "execution_count": 6,
   "id": "d482822f",
   "metadata": {},
   "outputs": [
    {
     "name": "stdout",
     "output_type": "stream",
     "text": [
      "Eligible to vote\n"
     ]
    }
   ],
   "source": [
    "voting_eligibility(25)\n"
   ]
  },
  {
   "cell_type": "code",
   "execution_count": 1,
   "id": "c79a6c99",
   "metadata": {},
   "outputs": [
    {
     "name": "stdout",
     "output_type": "stream",
     "text": [
      "7.0\n"
     ]
    }
   ],
   "source": [
    "def avg(a,b,c,d):\n",
    "    print(a+b+c+d/4)\n",
    "    \n",
    "avg(1,2,3,4)\n",
    "\n"
   ]
  },
  {
   "cell_type": "code",
   "execution_count": 23,
   "id": "6c14ae82",
   "metadata": {},
   "outputs": [
    {
     "name": "stdout",
     "output_type": "stream",
     "text": [
      "7.0\n"
     ]
    }
   ],
   "source": [
    "def avg(a,b,c,d):\n",
    "    return a+b+c+d/4\n",
    "\n",
    "average = avg(1,2,3,4)\n",
    "print(average)\n",
    "\n"
   ]
  },
  {
   "cell_type": "code",
   "execution_count": 24,
   "id": "68e8e97b",
   "metadata": {},
   "outputs": [
    {
     "name": "stdout",
     "output_type": "stream",
     "text": [
      "7.0\n"
     ]
    }
   ],
   "source": [
    "print(average)"
   ]
  },
  {
   "cell_type": "code",
   "execution_count": 28,
   "id": "898a3b4d",
   "metadata": {},
   "outputs": [
    {
     "name": "stdout",
     "output_type": "stream",
     "text": [
      "I Love USA\n",
      "I Love London\n"
     ]
    },
    {
     "data": {
      "text/plain": [
       "'I Love India'"
      ]
     },
     "execution_count": 28,
     "metadata": {},
     "output_type": "execute_result"
    }
   ],
   "source": [
    "def myCountry(country = 'India'):\n",
    "    return f'I Love {country}'\n",
    "\n",
    "print(myCountry('USA'))\n",
    "print(myCountry('London'))\n",
    "myCountry()\n",
    "\n"
   ]
  },
  {
   "cell_type": "code",
   "execution_count": 29,
   "id": "3bbdb32c",
   "metadata": {},
   "outputs": [
    {
     "name": "stdout",
     "output_type": "stream",
     "text": [
      "sum of 10 and 5 is 15\n"
     ]
    }
   ],
   "source": [
    "a = 10\n",
    "b = 5\n",
    "sum = a+b\n",
    "print(f'sum of {a} and {b} is {sum}')\n"
   ]
  },
  {
   "cell_type": "code",
   "execution_count": 30,
   "id": "1cfb8cfd",
   "metadata": {},
   "outputs": [
    {
     "data": {
      "text/plain": [
       "256"
      ]
     },
     "execution_count": 30,
     "metadata": {},
     "output_type": "execute_result"
    }
   ],
   "source": [
    "def square(a):\n",
    "    return a**a\n",
    "square(4)"
   ]
  },
  {
   "cell_type": "code",
   "execution_count": 31,
   "id": "e69e9f94",
   "metadata": {},
   "outputs": [
    {
     "name": "stdout",
     "output_type": "stream",
     "text": [
      "27\n"
     ]
    }
   ],
   "source": [
    "square = lambda a: a**a\n",
    "print(square(3))"
   ]
  },
  {
   "cell_type": "code",
   "execution_count": 35,
   "id": "2681ef6b",
   "metadata": {},
   "outputs": [
    {
     "name": "stdout",
     "output_type": "stream",
     "text": [
      "Number is Even\n"
     ]
    }
   ],
   "source": [
    "def num(Number):\n",
    "    if Number % 2==0:\n",
    "        print(\"Number is Even\")\n",
    "    else:\n",
    "        print(\"Number is Odd\")\n",
    "\n",
    "num(8)"
   ]
  },
  {
   "cell_type": "markdown",
   "id": "46d7932b",
   "metadata": {},
   "source": [
    "# Practice Questions"
   ]
  },
  {
   "cell_type": "markdown",
   "id": "b85a1432",
   "metadata": {},
   "source": [
    "Ques1. Check a number is prime or not."
   ]
  },
  {
   "cell_type": "code",
   "execution_count": 4,
   "id": "cab460b3",
   "metadata": {},
   "outputs": [
    {
     "name": "stdout",
     "output_type": "stream",
     "text": [
      "4 is not a prime number\n"
     ]
    }
   ],
   "source": [
    "def prime_no(num):\n",
    "    if num <= 1:\n",
    "        print(f\"{num} is not a number\")\n",
    "    else:\n",
    "        for i in range(2,num):\n",
    "            if num % i == 0:\n",
    "                print(f\"{num} is not a prime number\")\n",
    "                break\n",
    "        else:\n",
    "            print(f\"{num} is a prime number\")\n",
    "prime_no(4)"
   ]
  },
  {
   "cell_type": "markdown",
   "id": "5afda931",
   "metadata": {},
   "source": [
    "Ques2. Convert temperature celsius to fahrenheit."
   ]
  },
  {
   "cell_type": "code",
   "execution_count": 7,
   "id": "f849296d",
   "metadata": {},
   "outputs": [
    {
     "name": "stdout",
     "output_type": "stream",
     "text": [
      "46.4\n"
     ]
    }
   ],
   "source": [
    "def Celsius_to_fahrenheit(temp):\n",
    "    print(temp*9/5+32)\n",
    "\n",
    "Celsius_to_fahrenheit(8) "
   ]
  },
  {
   "cell_type": "code",
   "execution_count": 10,
   "id": "1b0b487a",
   "metadata": {},
   "outputs": [
    {
     "name": "stdout",
     "output_type": "stream",
     "text": [
      "44.6\n"
     ]
    }
   ],
   "source": [
    "Celsius_to_fahrenheit(7)"
   ]
  },
  {
   "cell_type": "markdown",
   "id": "dd072087",
   "metadata": {},
   "source": [
    "Ques3. Find maximum of three numbers."
   ]
  },
  {
   "cell_type": "code",
   "execution_count": 9,
   "id": "01fadc6c",
   "metadata": {},
   "outputs": [
    {
     "name": "stdout",
     "output_type": "stream",
     "text": [
      "C is Greater!!! 76\n"
     ]
    }
   ],
   "source": [
    "def max(a,b,c):\n",
    "    if a>=b and a>=c:\n",
    "        print(\"A is Greater!!!\",a)\n",
    "    elif b>=a and b>=c:\n",
    "        print(\"B is Greater!!!\",b)\n",
    "    else:\n",
    "        print(\"C is Greater!!!\",c)\n",
    "    \n",
    "max(10,40,76)"
   ]
  },
  {
   "cell_type": "markdown",
   "id": "c918bdf9",
   "metadata": {},
   "source": [
    "Ques4. Calculate factorial."
   ]
  },
  {
   "cell_type": "code",
   "execution_count": 31,
   "id": "bac1b850",
   "metadata": {},
   "outputs": [
    {
     "name": "stdout",
     "output_type": "stream",
     "text": [
      "The factorial of 8 is 40320\n"
     ]
    }
   ],
   "source": [
    "def factorial_number(num):\n",
    "    factorial  = 1\n",
    "    if num < 0:\n",
    "        print(\"Sorry,factorial does not exist for negative numbers\")\n",
    "    elif num==0:\n",
    "        print(\"The factorial of 0 is 1\")\n",
    "    else:\n",
    "        for i in range(1,num + 1):\n",
    "            factorial = factorial * i\n",
    "        print(\"The factorial of\",num, \"is\", factorial)\n",
    "\n",
    "factorial_number(8)"
   ]
  },
  {
   "cell_type": "markdown",
   "id": "995724de",
   "metadata": {},
   "source": [
    "Ques5. Reverse of a String."
   ]
  },
  {
   "cell_type": "code",
   "execution_count": 17,
   "id": "cbdcd46b",
   "metadata": {},
   "outputs": [
    {
     "data": {
      "text/plain": [
       "'!!!gnimoolB'"
      ]
     },
     "execution_count": 17,
     "metadata": {},
     "output_type": "execute_result"
    }
   ],
   "source": [
    "def reverse_string(String):\n",
    "    return String[::-1]\n",
    "\n",
    "reverse_string(\"Blooming!!!\")"
   ]
  },
  {
   "cell_type": "markdown",
   "id": "561a2f1b",
   "metadata": {},
   "source": [
    "Ques6. Count vowels in a String."
   ]
  },
  {
   "cell_type": "code",
   "execution_count": 15,
   "id": "9403a300",
   "metadata": {},
   "outputs": [
    {
     "data": {
      "text/plain": [
       "11"
      ]
     },
     "execution_count": 15,
     "metadata": {},
     "output_type": "execute_result"
    }
   ],
   "source": [
    "def Count_Vowels(String):\n",
    "    Vowels = 'aeiou'\n",
    "    Count = 0\n",
    "    for i in String:\n",
    "          \n",
    "        if i in Vowels:\n",
    "            Count +=1\n",
    "        \n",
    "    return Count\n",
    "    \n",
    "Count_Vowels( \"You can't compel damon without damn\")\n",
    "\n"
   ]
  },
  {
   "cell_type": "markdown",
   "id": "d9314220",
   "metadata": {},
   "source": [
    "Ques7. Calculate BMI(Body Mass Index)."
   ]
  },
  {
   "cell_type": "code",
   "execution_count": 34,
   "id": "00741742",
   "metadata": {},
   "outputs": [
    {
     "data": {
      "text/plain": [
       "2.400548696844993"
      ]
     },
     "execution_count": 34,
     "metadata": {},
     "output_type": "execute_result"
    }
   ],
   "source": [
    "def BodyMass_Index(weight_kg,height_m):\n",
    "    bmi  = weight_kg / (height_m**2)\n",
    "    return bmi\n",
    "BodyMass_Index(70,5.4)"
   ]
  },
  {
   "cell_type": "code",
   "execution_count": null,
   "id": "f04d60c5",
   "metadata": {},
   "outputs": [],
   "source": []
  }
 ],
 "metadata": {
  "kernelspec": {
   "display_name": "base",
   "language": "python",
   "name": "python3"
  },
  "language_info": {
   "codemirror_mode": {
    "name": "ipython",
    "version": 3
   },
   "file_extension": ".py",
   "mimetype": "text/x-python",
   "name": "python",
   "nbconvert_exporter": "python",
   "pygments_lexer": "ipython3",
   "version": "3.13.2"
  }
 },
 "nbformat": 4,
 "nbformat_minor": 5
}
