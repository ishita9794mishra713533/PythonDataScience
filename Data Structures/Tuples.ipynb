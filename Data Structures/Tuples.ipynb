{
 "cells": [
  {
   "cell_type": "markdown",
   "id": "19c7a933",
   "metadata": {},
   "source": [
    "# Creation of Tuple"
   ]
  },
  {
   "cell_type": "code",
   "execution_count": 1,
   "id": "2cf606e1",
   "metadata": {},
   "outputs": [
    {
     "name": "stdout",
     "output_type": "stream",
     "text": [
      "('disco', 10, 1.2)\n"
     ]
    }
   ],
   "source": [
    "Tuple1 = (\"disco\",10,1.2)\n",
    "print(Tuple1)"
   ]
  },
  {
   "cell_type": "markdown",
   "id": "f614a6c5",
   "metadata": {},
   "source": [
    "Tuple Indexing"
   ]
  },
  {
   "cell_type": "code",
   "execution_count": 2,
   "id": "359a569b",
   "metadata": {},
   "outputs": [
    {
     "name": "stdout",
     "output_type": "stream",
     "text": [
      "disco\n"
     ]
    }
   ],
   "source": [
    "print(Tuple1[0])"
   ]
  },
  {
   "cell_type": "code",
   "execution_count": 3,
   "id": "4022a598",
   "metadata": {},
   "outputs": [
    {
     "name": "stdout",
     "output_type": "stream",
     "text": [
      "1.2\n"
     ]
    }
   ],
   "source": [
    "print(Tuple1[-1])"
   ]
  },
  {
   "cell_type": "code",
   "execution_count": 5,
   "id": "3bc77c6a",
   "metadata": {},
   "outputs": [
    {
     "name": "stdout",
     "output_type": "stream",
     "text": [
      "10\n"
     ]
    }
   ],
   "source": [
    "print(Tuple1[1])"
   ]
  },
  {
   "cell_type": "markdown",
   "id": "053bf725",
   "metadata": {},
   "source": [
    "Tuple Slicing"
   ]
  },
  {
   "cell_type": "code",
   "execution_count": 7,
   "id": "f096c448",
   "metadata": {},
   "outputs": [
    {
     "name": "stdout",
     "output_type": "stream",
     "text": [
      "('disco', 10, 1.2)\n"
     ]
    }
   ],
   "source": [
    "print(Tuple1[0::])"
   ]
  },
  {
   "cell_type": "code",
   "execution_count": 8,
   "id": "99e4d0a5",
   "metadata": {},
   "outputs": [
    {
     "name": "stdout",
     "output_type": "stream",
     "text": [
      "('disco',)\n"
     ]
    }
   ],
   "source": [
    "print(Tuple1[0:1])"
   ]
  },
  {
   "cell_type": "code",
   "execution_count": 10,
   "id": "eed070c0",
   "metadata": {},
   "outputs": [
    {
     "name": "stdout",
     "output_type": "stream",
     "text": [
      "('disco', 10)\n"
     ]
    }
   ],
   "source": [
    "print(Tuple1[0:2])"
   ]
  },
  {
   "cell_type": "markdown",
   "id": "6265cc1d",
   "metadata": {},
   "source": [
    "# Tuple Concetanation"
   ]
  },
  {
   "cell_type": "code",
   "execution_count": 4,
   "id": "8f8dfe80",
   "metadata": {},
   "outputs": [
    {
     "name": "stdout",
     "output_type": "stream",
     "text": [
      "('disco', 10, 1.2, 'Hard Rock', 10)\n"
     ]
    }
   ],
   "source": [
    "Tuple2 = Tuple1 + (\"Hard Rock\",10)\n",
    "print(Tuple2)"
   ]
  },
  {
   "cell_type": "markdown",
   "id": "216dca20",
   "metadata": {},
   "source": [
    "Find the length of the tuple"
   ]
  },
  {
   "cell_type": "code",
   "execution_count": 11,
   "id": "b3e710a1",
   "metadata": {},
   "outputs": [
    {
     "data": {
      "text/plain": [
       "3"
      ]
     },
     "execution_count": 11,
     "metadata": {},
     "output_type": "execute_result"
    }
   ],
   "source": [
    "len(Tuple1)"
   ]
  },
  {
   "cell_type": "code",
   "execution_count": 12,
   "id": "d016986e",
   "metadata": {},
   "outputs": [
    {
     "data": {
      "text/plain": [
       "5"
      ]
     },
     "execution_count": 12,
     "metadata": {},
     "output_type": "execute_result"
    }
   ],
   "source": [
    "len(Tuple2)"
   ]
  },
  {
   "cell_type": "markdown",
   "id": "dd8f0e43",
   "metadata": {},
   "source": [
    "Sort the tuple "
   ]
  },
  {
   "cell_type": "code",
   "execution_count": 13,
   "id": "afaf7e23",
   "metadata": {},
   "outputs": [
    {
     "name": "stdout",
     "output_type": "stream",
     "text": [
      "(10, 8, 15, 7, 6, 4, 5, 3, 1, 2)\n"
     ]
    }
   ],
   "source": [
    "Ratings = (10,8,15,7,6,4,5,3,1,2)\n",
    "print(Ratings)"
   ]
  },
  {
   "cell_type": "code",
   "execution_count": 14,
   "id": "694ae339",
   "metadata": {},
   "outputs": [
    {
     "name": "stdout",
     "output_type": "stream",
     "text": [
      "[1, 2, 3, 4, 5, 6, 7, 8, 10, 15]\n"
     ]
    }
   ],
   "source": [
    "RatingsSorted = sorted(Ratings)\n",
    "print(RatingsSorted)"
   ]
  },
  {
   "cell_type": "markdown",
   "id": "42604134",
   "metadata": {},
   "source": [
    "# Creation of Nested Tuple"
   ]
  },
  {
   "cell_type": "code",
   "execution_count": 15,
   "id": "5cb64de0",
   "metadata": {},
   "outputs": [
    {
     "name": "stdout",
     "output_type": "stream",
     "text": [
      "(1, 2, ('pop', 'rock'), (3, 4), ('disco', (1, 2)))\n"
     ]
    }
   ],
   "source": [
    "Nested_Tuple = (1,2,(\"pop\",\"rock\"),(3,4),(\"disco\",(1,2)))\n",
    "print(Nested_Tuple)"
   ]
  },
  {
   "cell_type": "markdown",
   "id": "f55cf800",
   "metadata": {},
   "source": [
    "Indexing in the Nested Tuple"
   ]
  },
  {
   "cell_type": "code",
   "execution_count": 16,
   "id": "9c186993",
   "metadata": {},
   "outputs": [
    {
     "name": "stdout",
     "output_type": "stream",
     "text": [
      "rock\n"
     ]
    }
   ],
   "source": [
    "print(Nested_Tuple[2][1])"
   ]
  },
  {
   "cell_type": "code",
   "execution_count": 17,
   "id": "ae434d0c",
   "metadata": {},
   "outputs": [
    {
     "name": "stdout",
     "output_type": "stream",
     "text": [
      "('disco', (1, 2))\n"
     ]
    }
   ],
   "source": [
    "print(Nested_Tuple[4])"
   ]
  },
  {
   "cell_type": "code",
   "execution_count": 18,
   "id": "28a365ac",
   "metadata": {},
   "outputs": [
    {
     "name": "stdout",
     "output_type": "stream",
     "text": [
      "2\n"
     ]
    }
   ],
   "source": [
    "print(Nested_Tuple[4][1][1])"
   ]
  },
  {
   "cell_type": "code",
   "execution_count": null,
   "id": "d25483d5",
   "metadata": {},
   "outputs": [],
   "source": []
  }
 ],
 "metadata": {
  "kernelspec": {
   "display_name": "base",
   "language": "python",
   "name": "python3"
  },
  "language_info": {
   "codemirror_mode": {
    "name": "ipython",
    "version": 3
   },
   "file_extension": ".py",
   "mimetype": "text/x-python",
   "name": "python",
   "nbconvert_exporter": "python",
   "pygments_lexer": "ipython3",
   "version": "3.13.2"
  }
 },
 "nbformat": 4,
 "nbformat_minor": 5
}
