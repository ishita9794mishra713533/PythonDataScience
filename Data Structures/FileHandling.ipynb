{
 "cells": [
  {
   "cell_type": "markdown",
   "id": "07ae9ee1",
   "metadata": {},
   "source": [
    "# File Handling"
   ]
  },
  {
   "cell_type": "markdown",
   "id": "bb96d696",
   "metadata": {},
   "source": [
    "The file handle is basically used to handle the large datasets."
   ]
  },
  {
   "cell_type": "markdown",
   "id": "74830f47",
   "metadata": {},
   "source": [
    "Operations in File Handling:\n",
    "- Open\n",
    "- Read\n",
    "- Write\n",
    "- Close"
   ]
  },
  {
   "cell_type": "markdown",
   "id": "ae5387d3",
   "metadata": {},
   "source": [
    "Modes in File Handling:\n",
    "\n",
    "- Read        :       [read mode]\n",
    "- Write        :     [write mode]\n",
    "- Append        :     [If we want to add something at the end of the file]\n",
    "- R+             :    [it's for both read and write]\n",
    "- W+             :    [it's for both read and write]\n",
    "- A+             :    [it's for both read and append]\n",
    "    "
   ]
  },
  {
   "cell_type": "code",
   "execution_count": 3,
   "id": "8c21ec70",
   "metadata": {},
   "outputs": [],
   "source": [
    "import os"
   ]
  },
  {
   "cell_type": "code",
   "execution_count": 12,
   "id": "e413e59f",
   "metadata": {},
   "outputs": [
    {
     "name": "stdout",
     "output_type": "stream",
     "text": [
      "Current Working Directory is: c:\\Users\\hp\\Desktop\\PythonDataScience\\Data Structures\n"
     ]
    }
   ],
   "source": [
    "print('Current Working Directory is:', os.getcwd())"
   ]
  },
  {
   "cell_type": "code",
   "execution_count": 13,
   "id": "5f8df037",
   "metadata": {},
   "outputs": [
    {
     "name": "stdout",
     "output_type": "stream",
     "text": [
      "Files in current working directory ['Dictionary.ipynb', 'File.txt', 'FileHandling.ipynb', 'File_1.txt', 'File_2.txt', 'File_3.txt', 'Functions.ipynb', 'Libraries.ipynb', 'List.ipynb', 'my_file.txt', 'Pattern3.py', 'Pattern4.py', 'Pattern5.py', 'Python Test1.ipynb', 'Sets.ipynb', 'String.ipynb', 'Tuples.ipynb']\n"
     ]
    }
   ],
   "source": [
    "files = os.listdir()\n",
    "print('Files in current working directory', files)"
   ]
  },
  {
   "cell_type": "code",
   "execution_count": 11,
   "id": "ec9b26a6",
   "metadata": {},
   "outputs": [
    {
     "ename": "FileNotFoundError",
     "evalue": "[WinError 3] The system cannot find the path specified: 'Data Structures'",
     "output_type": "error",
     "traceback": [
      "\u001b[31m---------------------------------------------------------------------------\u001b[39m",
      "\u001b[31mFileNotFoundError\u001b[39m                         Traceback (most recent call last)",
      "\u001b[36mCell\u001b[39m\u001b[36m \u001b[39m\u001b[32mIn[11]\u001b[39m\u001b[32m, line 1\u001b[39m\n\u001b[32m----> \u001b[39m\u001b[32m1\u001b[39m files = \u001b[43mos\u001b[49m\u001b[43m.\u001b[49m\u001b[43mlistdir\u001b[49m\u001b[43m(\u001b[49m\u001b[33;43m\"\u001b[39;49m\u001b[33;43mData Structures\u001b[39;49m\u001b[33;43m\"\u001b[39;49m\u001b[43m)\u001b[49m\n\u001b[32m      2\u001b[39m \u001b[38;5;28mprint\u001b[39m(\u001b[33m'\u001b[39m\u001b[33mFiles in current working directory\u001b[39m\u001b[33m'\u001b[39m, files)\n\u001b[32m      3\u001b[39m \u001b[38;5;66;03m# Relative path is used when the folder is saved in the root directory.\u001b[39;00m\n\u001b[32m      4\u001b[39m \u001b[38;5;66;03m# Absolute path is a complete path.\u001b[39;00m\n",
      "\u001b[31mFileNotFoundError\u001b[39m: [WinError 3] The system cannot find the path specified: 'Data Structures'"
     ]
    }
   ],
   "source": [
    "files = os.listdir(\"Data Structures\")\n",
    "print('Files in current working directory', files)\n",
    "# Relative path is used when the folder is saved in the root directory.\n",
    "# Absolute path is a complete path."
   ]
  },
  {
   "cell_type": "markdown",
   "id": "a8518fdd",
   "metadata": {},
   "source": [
    "Creation of a file"
   ]
  },
  {
   "cell_type": "code",
   "execution_count": 5,
   "id": "e231e822",
   "metadata": {},
   "outputs": [],
   "source": [
    "# f1 = open(\"File_1.txt\",\"x\")\n",
    "#x : It is used for the creation of the file."
   ]
  },
  {
   "cell_type": "markdown",
   "id": "7c4ea44a",
   "metadata": {},
   "source": [
    "File open in a Read Mode"
   ]
  },
  {
   "cell_type": "code",
   "execution_count": null,
   "id": "75190d8e",
   "metadata": {},
   "outputs": [
    {
     "name": "stdout",
     "output_type": "stream",
     "text": [
      "Hi, I'm Ishita\n",
      "and I'm learning File Handling In Python.\n",
      "\n"
     ]
    }
   ],
   "source": [
    "f1 = open(\"File_1.txt\",\"r\")\n",
    "data = f1.read()\n",
    "print(data)"
   ]
  },
  {
   "cell_type": "markdown",
   "id": "b043521c",
   "metadata": {},
   "source": [
    "File open in a Default Mode"
   ]
  },
  {
   "cell_type": "code",
   "execution_count": 7,
   "id": "ed2838ea",
   "metadata": {},
   "outputs": [
    {
     "name": "stdout",
     "output_type": "stream",
     "text": [
      "Hi, I'm Ishita\n",
      "and I'm learning File Handling In Python.\n",
      "\n"
     ]
    }
   ],
   "source": [
    "f1 = open(\"File_1.txt\")\n",
    "data = f1.read()\n",
    "print(data)\n",
    "# By default it will take a read mode."
   ]
  },
  {
   "cell_type": "markdown",
   "id": "52dd60b9",
   "metadata": {},
   "source": [
    "File open in a Write Mode"
   ]
  },
  {
   "cell_type": "code",
   "execution_count": 18,
   "id": "4153eae5",
   "metadata": {},
   "outputs": [],
   "source": [
    "with open(\"my_file.txt\",\"w\") as f2:\n",
    "    f2.write(\"Hello_Digipodiums!!!!\")\n",
    "    "
   ]
  },
  {
   "cell_type": "markdown",
   "id": "b1d961a4",
   "metadata": {},
   "source": [
    "File open in a R+ Mode:\n",
    "\n",
    "Firstly we have to read the data in the file and then add some extra content."
   ]
  },
  {
   "cell_type": "code",
   "execution_count": 10,
   "id": "84cead16",
   "metadata": {},
   "outputs": [
    {
     "name": "stdout",
     "output_type": "stream",
     "text": [
      "Hie\n",
      "This is Ishita here!!!is is Ishita here!!!\u0000\u0000\u0000\u0000\u0000\u0000\u0000\u0000\u0000\u0000\u0000\u0000\u0000\u0000\u0000\u0000\u0000\u0000\u0000\u0000\u0000\u0000\u0000\u0000\u0000\u0000\u0000\u0000\u0000\u0000\u0000\u0000\u0000\u0000\u0000\u0000\u0000\u0000\u0000\u0000\u0000\u0000\u0000\u0000\u0000\u0000\u0000\u0000\u0000\u0000\u0000\u0000\u0000\u0000\u0000\u0000\u0000\u0000\u0000\u0000\u0000\u0000\u0000\u0000\u0000\u0000\n",
      "Ishita here!!!\n"
     ]
    },
    {
     "data": {
      "text/plain": [
       "15"
      ]
     },
     "execution_count": 10,
     "metadata": {},
     "output_type": "execute_result"
    }
   ],
   "source": [
    "f = open(\"File_2.txt\",\"r+\")\n",
    "\n",
    "print(f.read())\n",
    "\n",
    "f.write(\"\\nIshita here!!!\")"
   ]
  },
  {
   "cell_type": "markdown",
   "id": "2d5b973c",
   "metadata": {},
   "source": [
    "File open in a Read Mode"
   ]
  },
  {
   "cell_type": "code",
   "execution_count": 8,
   "id": "318da450",
   "metadata": {},
   "outputs": [
    {
     "name": "stdout",
     "output_type": "stream",
     "text": [
      "Hie\n",
      "This is Ishita here!!!\n"
     ]
    }
   ],
   "source": [
    "fs = open(\"File_2.txt\",\"r\")\n",
    "data = fs.read()\n",
    "print(data)"
   ]
  },
  {
   "cell_type": "markdown",
   "id": "a8519fdb",
   "metadata": {},
   "source": [
    "Tell() Function:"
   ]
  },
  {
   "cell_type": "code",
   "execution_count": null,
   "id": "9d5dba72",
   "metadata": {},
   "outputs": [
    {
     "name": "stdout",
     "output_type": "stream",
     "text": [
      "0\n",
      "28\n"
     ]
    }
   ],
   "source": [
    "#tell() function will tell the position of file pointer.\n",
    "fs = open(\"File_2.txt\",\"r\")\n",
    "print(fs.tell())\n",
    "fs.read()\n",
    "print(fs.tell())"
   ]
  },
  {
   "cell_type": "markdown",
   "id": "960ae32b",
   "metadata": {},
   "source": [
    "File  open in a W+ Mode:\n",
    "\n",
    "It overwrites the previous content in a file."
   ]
  },
  {
   "cell_type": "code",
   "execution_count": 14,
   "id": "f908930c",
   "metadata": {},
   "outputs": [
    {
     "name": "stdout",
     "output_type": "stream",
     "text": [
      "0\n",
      "12\n",
      "36\n",
      "Hie EveryoneThis is Python Course!!!\n"
     ]
    }
   ],
   "source": [
    "file = open(\"File_3.txt\",\"w+\")\n",
    "print(file.tell())\n",
    "file.write(\"Hie Everyone\")\n",
    "print(file.tell())\n",
    "file.write(\"This is Python Course!!!\")\n",
    "print(file.tell())\n",
    "file.seek(0)\n",
    "\n",
    "#Seek() function is used to change the position of file pointer,\n",
    "\n",
    "data= file.read()\n",
    "print(data)"
   ]
  },
  {
   "cell_type": "markdown",
   "id": "3759cb98",
   "metadata": {},
   "source": [
    "Append Mode: \n",
    "-  If a file opened in an append mode, the file pointer will at the end of the file."
   ]
  },
  {
   "cell_type": "code",
   "execution_count": 3,
   "id": "35bee6f1",
   "metadata": {},
   "outputs": [
    {
     "data": {
      "text/plain": [
       "25"
      ]
     },
     "execution_count": 3,
     "metadata": {},
     "output_type": "execute_result"
    }
   ],
   "source": [
    "f1 = open(\"File.txt\",\"a\")\n",
    "f1.write(\"Welcome to the digipodium\")\n",
    "#If a file doesn't exist, it will create a new file.\n",
    "\n"
   ]
  },
  {
   "cell_type": "markdown",
   "id": "db39ef17",
   "metadata": {},
   "source": [
    "File open in a A+ Mode:\n",
    "\n",
    "- It will open a file in append mode/ read and write mode."
   ]
  },
  {
   "cell_type": "code",
   "execution_count": 4,
   "id": "3145c0bb",
   "metadata": {},
   "outputs": [
    {
     "name": "stdout",
     "output_type": "stream",
     "text": [
      "50\n",
      "Welcome to the digipodiumWelcome to the digipodium\n"
     ]
    }
   ],
   "source": [
    "f6 = open(\"File.txt\",\"a+\")\n",
    "print(f6.tell())\n",
    "f6.seek(0)\n",
    "print(f6.read())"
   ]
  },
  {
   "cell_type": "code",
   "execution_count": 7,
   "id": "87cf3ce2",
   "metadata": {},
   "outputs": [
    {
     "name": "stdout",
     "output_type": "stream",
     "text": [
      "51\n",
      "Welcome to the digipodiumThis is a jupyter notebookThis is a jupyter notebook\n"
     ]
    },
    {
     "data": {
      "text/plain": [
       "26"
      ]
     },
     "execution_count": 7,
     "metadata": {},
     "output_type": "execute_result"
    }
   ],
   "source": [
    "f6 = open(\"File.txt\",\"a+\")\n",
    "print(f6.tell())\n",
    "f6.seek(0)\n",
    "print(f6.read())\n",
    "f6.write(\"This is a jupyter notebook\")"
   ]
  },
  {
   "cell_type": "code",
   "execution_count": null,
   "id": "a68f0abd",
   "metadata": {},
   "outputs": [],
   "source": []
  }
 ],
 "metadata": {
  "kernelspec": {
   "display_name": "base",
   "language": "python",
   "name": "python3"
  },
  "language_info": {
   "codemirror_mode": {
    "name": "ipython",
    "version": 3
   },
   "file_extension": ".py",
   "mimetype": "text/x-python",
   "name": "python",
   "nbconvert_exporter": "python",
   "pygments_lexer": "ipython3",
   "version": "3.13.2"
  }
 },
 "nbformat": 4,
 "nbformat_minor": 5
}
