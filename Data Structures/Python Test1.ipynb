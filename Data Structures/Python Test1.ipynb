{
 "cells": [
  {
   "cell_type": "markdown",
   "id": "82d76008",
   "metadata": {},
   "source": [
    "# Python Test 1:"
   ]
  },
  {
   "cell_type": "markdown",
   "id": "9cc3fe2e",
   "metadata": {},
   "source": [
    "Ques 1:"
   ]
  },
  {
   "cell_type": "code",
   "execution_count": 39,
   "id": "36668ad8",
   "metadata": {},
   "outputs": [
    {
     "name": "stdout",
     "output_type": "stream",
     "text": [
      "{'a': 3, 'b': 2}\n"
     ]
    }
   ],
   "source": [
    "d1 = {\"a\":1}\n",
    "d2 = d1\n",
    "d1[\"b\"] = 2\n",
    "d1[\"a\"] = 3\n",
    "\n",
    "print(d1)"
   ]
  },
  {
   "cell_type": "markdown",
   "id": "3103fc68",
   "metadata": {},
   "source": [
    "Ques 2:"
   ]
  },
  {
   "cell_type": "code",
   "execution_count": 16,
   "id": "9d12cae5",
   "metadata": {},
   "outputs": [
    {
     "name": "stdout",
     "output_type": "stream",
     "text": [
      "gda\n"
     ]
    }
   ],
   "source": [
    "s = \"abcdefgh\"\n",
    "print(s[::3][::-1])"
   ]
  },
  {
   "cell_type": "markdown",
   "id": "84533dbe",
   "metadata": {},
   "source": [
    "Ques 3:"
   ]
  },
  {
   "cell_type": "code",
   "execution_count": 17,
   "id": "e6e709c9",
   "metadata": {},
   "outputs": [
    {
     "name": "stdout",
     "output_type": "stream",
     "text": [
      "AeO\n"
     ]
    }
   ],
   "source": [
    "s = \"OpenAI\"\n",
    "print(s[-2::-2])"
   ]
  },
  {
   "cell_type": "markdown",
   "id": "acb3ca91",
   "metadata": {},
   "source": [
    "Ques 4:"
   ]
  },
  {
   "cell_type": "code",
   "execution_count": 28,
   "id": "a0eb3930",
   "metadata": {},
   "outputs": [
    {
     "name": "stdout",
     "output_type": "stream",
     "text": [
      "[1, 7, 4]\n"
     ]
    }
   ],
   "source": [
    "a = [1,2,3,4]\n",
    "a[1:3] = [7]\n",
    "print(a)"
   ]
  },
  {
   "cell_type": "markdown",
   "id": "afc6f74f",
   "metadata": {},
   "source": [
    "Ques 5:"
   ]
  },
  {
   "cell_type": "code",
   "execution_count": 32,
   "id": "387d458a",
   "metadata": {},
   "outputs": [
    {
     "name": "stdout",
     "output_type": "stream",
     "text": [
      "True\n"
     ]
    }
   ],
   "source": [
    "a = \"hello\"\n",
    "b = \"he\" + \"llo\"\n",
    "print(a is b)"
   ]
  },
  {
   "cell_type": "markdown",
   "id": "8909c922",
   "metadata": {},
   "source": [
    "Ques 6:"
   ]
  },
  {
   "cell_type": "code",
   "execution_count": 34,
   "id": "74b1bedc",
   "metadata": {},
   "outputs": [
    {
     "name": "stdout",
     "output_type": "stream",
     "text": [
      "0\n",
      "1\n",
      "Loop done\n"
     ]
    }
   ],
   "source": [
    "for i in range(2):\n",
    "    print(i)\n",
    "else:\n",
    "    print(\"Loop done\")"
   ]
  },
  {
   "cell_type": "markdown",
   "id": "eb0b8629",
   "metadata": {},
   "source": [
    "Ques 7:"
   ]
  },
  {
   "cell_type": "code",
   "execution_count": 37,
   "id": "b1b66287",
   "metadata": {},
   "outputs": [
    {
     "name": "stdout",
     "output_type": "stream",
     "text": [
      "set()\n"
     ]
    }
   ],
   "source": [
    "a = {1,2,3}\n",
    "b = a\n",
    "a.clear()\n",
    "print(b)"
   ]
  },
  {
   "cell_type": "markdown",
   "id": "5cb9a053",
   "metadata": {},
   "source": [
    "Ques 8:"
   ]
  },
  {
   "cell_type": "code",
   "execution_count": 5,
   "id": "7e1256c9",
   "metadata": {},
   "outputs": [
    {
     "name": "stdout",
     "output_type": "stream",
     "text": [
      "[[9, 2], [9, 2], [9, 2]]\n"
     ]
    }
   ],
   "source": [
    "x = [[1,2]]*3\n",
    "x[0][0] = 9\n",
    "print(x)"
   ]
  },
  {
   "cell_type": "markdown",
   "id": "538e1b33",
   "metadata": {},
   "source": [
    "Ques 9:"
   ]
  },
  {
   "cell_type": "code",
   "execution_count": 7,
   "id": "c3381351",
   "metadata": {},
   "outputs": [
    {
     "data": {
      "text/plain": [
       "['a', 'b', 'c']"
      ]
     },
     "execution_count": 7,
     "metadata": {},
     "output_type": "execute_result"
    }
   ],
   "source": [
    "list('abc')"
   ]
  },
  {
   "cell_type": "markdown",
   "id": "139705b6",
   "metadata": {},
   "source": [
    "Ques 10:"
   ]
  },
  {
   "cell_type": "code",
   "execution_count": 40,
   "id": "b37b9e41",
   "metadata": {},
   "outputs": [
    {
     "name": "stdout",
     "output_type": "stream",
     "text": [
      "[1, 2, 3]\n"
     ]
    }
   ],
   "source": [
    "a = [1,2,3]\n",
    "b = a\n",
    "a = a + [4]\n",
    "print(b)"
   ]
  },
  {
   "cell_type": "markdown",
   "id": "1b06f572",
   "metadata": {},
   "source": [
    "Ques 11:"
   ]
  },
  {
   "cell_type": "code",
   "execution_count": 12,
   "id": "286c8bf5",
   "metadata": {},
   "outputs": [
    {
     "name": "stdout",
     "output_type": "stream",
     "text": [
      "[[100, 2], [100, 2], [100, 2]]\n"
     ]
    }
   ],
   "source": [
    "a = [[1,2]] * 3\n",
    "a[0][0] = 100\n",
    "print(a)"
   ]
  },
  {
   "cell_type": "markdown",
   "id": "8d26817b",
   "metadata": {},
   "source": [
    "Ques 12:"
   ]
  },
  {
   "cell_type": "code",
   "execution_count": 15,
   "id": "8f6072ce",
   "metadata": {},
   "outputs": [
    {
     "name": "stdout",
     "output_type": "stream",
     "text": [
      "Invalid\n"
     ]
    }
   ],
   "source": [
    "x = 0\n",
    "y = 10\n",
    "if x and y/x:\n",
    "    print(\"Valid\")\n",
    "else:\n",
    "    print(\"Invalid\")\n"
   ]
  },
  {
   "cell_type": "markdown",
   "id": "899a80b0",
   "metadata": {},
   "source": [
    "Ques 13:\n"
   ]
  },
  {
   "cell_type": "code",
   "execution_count": 20,
   "id": "5226960e",
   "metadata": {},
   "outputs": [
    {
     "data": {
      "text/plain": [
       "True"
      ]
     },
     "execution_count": 20,
     "metadata": {},
     "output_type": "execute_result"
    }
   ],
   "source": [
    "a = {1,2,3}\n",
    "b = {3,2,1}\n",
    "c = {1:\"x\",2:\"y\",3:\"z\"}\n",
    "a==b"
   ]
  },
  {
   "cell_type": "markdown",
   "id": "77638089",
   "metadata": {},
   "source": [
    "Ques 14:"
   ]
  },
  {
   "cell_type": "code",
   "execution_count": 26,
   "id": "c9b9b29b",
   "metadata": {},
   "outputs": [],
   "source": [
    "for i in range(3):\n",
    "    if i==2:\n",
    "        break\n",
    "           \n",
    "else:\n",
    "    print(\"Completed\")"
   ]
  },
  {
   "cell_type": "markdown",
   "id": "e5b56701",
   "metadata": {},
   "source": [
    "Ques 15:"
   ]
  },
  {
   "cell_type": "code",
   "execution_count": 18,
   "id": "97537b82",
   "metadata": {},
   "outputs": [
    {
     "name": "stdout",
     "output_type": "stream",
     "text": [
      "12\n"
     ]
    }
   ],
   "source": [
    "a = 5\n",
    "b = 2\n",
    "print(a**b//b)"
   ]
  },
  {
   "cell_type": "markdown",
   "id": "4b8b1783",
   "metadata": {},
   "source": [
    "Ques 16:\n"
   ]
  },
  {
   "cell_type": "code",
   "execution_count": 21,
   "id": "18807f50",
   "metadata": {},
   "outputs": [
    {
     "data": {
      "text/plain": [
       "True"
      ]
     },
     "execution_count": 21,
     "metadata": {},
     "output_type": "execute_result"
    }
   ],
   "source": [
    "x = [1,2,3]\n",
    "y = [1,2,3]\n",
    "x is not y"
   ]
  },
  {
   "cell_type": "markdown",
   "id": "db323625",
   "metadata": {},
   "source": [
    "Ques 17:"
   ]
  },
  {
   "cell_type": "code",
   "execution_count": 42,
   "id": "a804c18b",
   "metadata": {},
   "outputs": [
    {
     "name": "stdout",
     "output_type": "stream",
     "text": [
      "False False False False\n"
     ]
    }
   ],
   "source": [
    "print(bool([]), bool(0), bool(''), bool(None))"
   ]
  },
  {
   "cell_type": "markdown",
   "id": "ad7eae17",
   "metadata": {},
   "source": [
    "Ques 18:"
   ]
  },
  {
   "cell_type": "code",
   "execution_count": 48,
   "id": "b8f36bd2",
   "metadata": {},
   "outputs": [
    {
     "name": "stdout",
     "output_type": "stream",
     "text": [
      "Odd\n"
     ]
    }
   ],
   "source": [
    "x  = 5\n",
    "if x>2:\n",
    "    if x<10:\n",
    "        if x % 2==0:\n",
    "            print(\"Even\")\n",
    "        else:\n",
    "            print(\"Odd\")"
   ]
  },
  {
   "cell_type": "markdown",
   "id": "9efa1b8b",
   "metadata": {},
   "source": [
    "Ques 19:"
   ]
  },
  {
   "cell_type": "code",
   "execution_count": 51,
   "id": "039e1ed2",
   "metadata": {},
   "outputs": [
    {
     "name": "stdout",
     "output_type": "stream",
     "text": [
      "Match\n"
     ]
    }
   ],
   "source": [
    "x = 10\n",
    "y = 5\n",
    "if x>y==y:\n",
    "    print(\"Match\")\n",
    "else:\n",
    "    print(\"No Match\")"
   ]
  },
  {
   "cell_type": "markdown",
   "id": "f99accdb",
   "metadata": {},
   "source": [
    "Ques 20:"
   ]
  },
  {
   "cell_type": "code",
   "execution_count": 58,
   "id": "2a003239",
   "metadata": {},
   "outputs": [
    {
     "name": "stdout",
     "output_type": "stream",
     "text": [
      "[1, 2, 3]\n"
     ]
    }
   ],
   "source": [
    "x = [1,2,3]\n",
    "y = x[:]\n",
    "x[0] = 10\n",
    "print(y)"
   ]
  }
 ],
 "metadata": {
  "kernelspec": {
   "display_name": "base",
   "language": "python",
   "name": "python3"
  },
  "language_info": {
   "codemirror_mode": {
    "name": "ipython",
    "version": 3
   },
   "file_extension": ".py",
   "mimetype": "text/x-python",
   "name": "python",
   "nbconvert_exporter": "python",
   "pygments_lexer": "ipython3",
   "version": "3.13.2"
  }
 },
 "nbformat": 4,
 "nbformat_minor": 5
}
