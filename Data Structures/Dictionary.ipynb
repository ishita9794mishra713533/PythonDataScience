{
 "cells": [
  {
   "cell_type": "markdown",
   "id": "afbc8b1f",
   "metadata": {},
   "source": [
    "- How to create dictionary\n",
    "- How to access pairs in dictionary\n",
    "- How to run a loop in dictionary\n",
    "- How to make a nested dictionary\n",
    "- Indexing in dictionary"
   ]
  },
  {
   "cell_type": "markdown",
   "id": "f184f7cf",
   "metadata": {},
   "source": [
    "# Creation of dictionary"
   ]
  },
  {
   "cell_type": "code",
   "execution_count": 1,
   "id": "3b351f2a",
   "metadata": {},
   "outputs": [
    {
     "name": "stdout",
     "output_type": "stream",
     "text": [
      "{'Name': 'Riya', 'Age': 20, 'Course': 'BCA', 'Marks': 87}\n"
     ]
    }
   ],
   "source": [
    "Student  = {\"Name\":\"Riya\",\"Age\":20,\"Course\":\"BCA\",\"Marks\": 87}\n",
    "print(Student)"
   ]
  },
  {
   "cell_type": "markdown",
   "id": "1e5a8b42",
   "metadata": {},
   "source": [
    "Another way to create a dictionary"
   ]
  },
  {
   "cell_type": "code",
   "execution_count": 1,
   "id": "6feb30ef",
   "metadata": {},
   "outputs": [
    {
     "name": "stdout",
     "output_type": "stream",
     "text": [
      "{'name': 'ishita', 'age': 20, 'Course': 'MBA', 'Marks': 90}\n"
     ]
    }
   ],
   "source": [
    "info = dict(name = input(\"enter the name\"), age = 20, Course = \"MBA\",Marks = 90)\n",
    "print(info)"
   ]
  },
  {
   "cell_type": "markdown",
   "id": "5719d177",
   "metadata": {},
   "source": [
    "Accessing of Keys from the dictionary"
   ]
  },
  {
   "cell_type": "code",
   "execution_count": 4,
   "id": "0f576961",
   "metadata": {},
   "outputs": [
    {
     "data": {
      "text/plain": [
       "dict_keys(['Name', 'Age', 'Course', 'Marks'])"
      ]
     },
     "execution_count": 4,
     "metadata": {},
     "output_type": "execute_result"
    }
   ],
   "source": [
    "Student.keys()"
   ]
  },
  {
   "cell_type": "markdown",
   "id": "ae74f2f0",
   "metadata": {},
   "source": [
    "How to store multiple values in a single key"
   ]
  },
  {
   "cell_type": "code",
   "execution_count": 5,
   "id": "77cc74fd",
   "metadata": {},
   "outputs": [
    {
     "name": "stdout",
     "output_type": "stream",
     "text": [
      "{'lucknow': [30, 35, 45], 'delhi': [56, 98, 76], 'chennai': [23, 87, 54]}\n"
     ]
    }
   ],
   "source": [
    "temp = {'lucknow':[30,35,45],\n",
    "        'delhi' :[56,98,76],\n",
    "        'chennai' :[23,87,54]\n",
    "}\n",
    "print(temp)"
   ]
  },
  {
   "cell_type": "code",
   "execution_count": null,
   "id": "c858e783",
   "metadata": {},
   "outputs": [
    {
     "data": {
      "text/plain": [
       "[30, 35, 45]"
      ]
     },
     "execution_count": 6,
     "metadata": {},
     "output_type": "execute_result"
    }
   ],
   "source": [
    "# accessing the values by using the Keys\n",
    "temp['lucknow']\n"
   ]
  },
  {
   "cell_type": "code",
   "execution_count": 7,
   "id": "62fa4391",
   "metadata": {},
   "outputs": [
    {
     "data": {
      "text/plain": [
       "dict_values(['Riya', 20, 'BCA', 87])"
      ]
     },
     "execution_count": 7,
     "metadata": {},
     "output_type": "execute_result"
    }
   ],
   "source": [
    "Student.values()"
   ]
  },
  {
   "cell_type": "code",
   "execution_count": 8,
   "id": "55416da8",
   "metadata": {},
   "outputs": [
    {
     "data": {
      "text/plain": [
       "20"
      ]
     },
     "execution_count": 8,
     "metadata": {},
     "output_type": "execute_result"
    }
   ],
   "source": [
    "info.get(\"age\")"
   ]
  },
  {
   "cell_type": "code",
   "execution_count": 9,
   "id": "2b6012ab",
   "metadata": {},
   "outputs": [],
   "source": [
    "# Adding new key and value pair in the dictionary\n",
    "info['City'] = \"lucknow\""
   ]
  },
  {
   "cell_type": "code",
   "execution_count": 2,
   "id": "7bb441cc",
   "metadata": {},
   "outputs": [
    {
     "name": "stdout",
     "output_type": "stream",
     "text": [
      "{'name': 'Ishita', 'age': 20, 'Course': 'MBA', 'Marks': 90}\n"
     ]
    }
   ],
   "source": [
    "info = dict(name = input(\"enter the name\"), age = 20, Course = \"MBA\",Marks = 90)\n",
    "print(info)"
   ]
  },
  {
   "cell_type": "markdown",
   "id": "ee335d84",
   "metadata": {},
   "source": [
    "# Accessing the Keys of Dictionary by using for loop"
   ]
  },
  {
   "cell_type": "code",
   "execution_count": 5,
   "id": "5474c753",
   "metadata": {},
   "outputs": [
    {
     "name": "stdout",
     "output_type": "stream",
     "text": [
      "Name\n",
      "Age\n",
      "Course\n",
      "Marks\n"
     ]
    }
   ],
   "source": [
    "Student  = {\"Name\":\"Riya\",\"Age\":20,\"Course\":\"BCA\",\"Marks\": 87}\n",
    "for i in Student :\n",
    "    print(i)"
   ]
  },
  {
   "cell_type": "markdown",
   "id": "a0255904",
   "metadata": {},
   "source": [
    "Accessing the items of dictionary by using for loop"
   ]
  },
  {
   "cell_type": "code",
   "execution_count": 4,
   "id": "c9baf20e",
   "metadata": {},
   "outputs": [
    {
     "name": "stdout",
     "output_type": "stream",
     "text": [
      "Name : Riya\n",
      "Age : 20\n",
      "Course : BCA\n",
      "Marks : 87\n"
     ]
    }
   ],
   "source": [
    "for i,j in Student.items():\n",
    "    print(f'{i} : {j}')"
   ]
  },
  {
   "cell_type": "markdown",
   "id": "8138d33c",
   "metadata": {},
   "source": [
    "Key Method"
   ]
  },
  {
   "cell_type": "code",
   "execution_count": 9,
   "id": "c20e37f0",
   "metadata": {},
   "outputs": [
    {
     "name": "stdout",
     "output_type": "stream",
     "text": [
      "dict_keys(['Name', 'Age', 'Course', 'Marks'])\n"
     ]
    }
   ],
   "source": [
    "print(Student.keys())"
   ]
  },
  {
   "cell_type": "markdown",
   "id": "3970b54b",
   "metadata": {},
   "source": [
    "Values Method"
   ]
  },
  {
   "cell_type": "code",
   "execution_count": 10,
   "id": "28db1141",
   "metadata": {},
   "outputs": [
    {
     "name": "stdout",
     "output_type": "stream",
     "text": [
      "dict_values(['Riya', 20, 'BCA', 87])\n"
     ]
    }
   ],
   "source": [
    "print(Student.values())"
   ]
  },
  {
   "cell_type": "markdown",
   "id": "3ed9bf44",
   "metadata": {},
   "source": [
    "Items Method"
   ]
  },
  {
   "cell_type": "code",
   "execution_count": 11,
   "id": "204c3efc",
   "metadata": {},
   "outputs": [
    {
     "name": "stdout",
     "output_type": "stream",
     "text": [
      "dict_items([('Name', 'Riya'), ('Age', 20), ('Course', 'BCA'), ('Marks', 87)])\n"
     ]
    }
   ],
   "source": [
    "print(Student.items())"
   ]
  },
  {
   "cell_type": "markdown",
   "id": "f5ce1714",
   "metadata": {},
   "source": [
    "# Nested Dictionary"
   ]
  },
  {
   "cell_type": "code",
   "execution_count": 34,
   "id": "dc6e1d26",
   "metadata": {},
   "outputs": [
    {
     "name": "stdout",
     "output_type": "stream",
     "text": [
      "{'emp001': {'name': 'Alice', 'dept': 'Finance', 'Salary': 50000}, 'emp002': {'name': 'Bob', 'dept': 'Marketing', 'Salary': 45000}, 'emp003': {'name': 'Smith', 'dept': 'IT', 'Salary': 70000}}\n"
     ]
    }
   ],
   "source": [
    "company = {\n",
    "    'emp001' : {\n",
    "        'name' : 'Alice',\n",
    "        'dept' : 'Finance',\n",
    "        'Salary' : 50000\n",
    "    },\n",
    "    'emp002' : {\n",
    "        'name' : 'Bob',\n",
    "        'dept' : 'Marketing',\n",
    "        'Salary' : 45000\n",
    "    },\n",
    "    'emp003' : {\n",
    "        'name' : 'Smith',\n",
    "        'dept' : 'IT',\n",
    "        'Salary': 70000\n",
    "    }\n",
    "    }\n",
    "print(company)\n",
    "    "
   ]
  },
  {
   "cell_type": "markdown",
   "id": "c5854ed5",
   "metadata": {},
   "source": [
    "# P print : Pretty - Printing"
   ]
  },
  {
   "cell_type": "markdown",
   "id": "771a545a",
   "metadata": {},
   "source": [
    "\"P print\" refers to the pretty-printing, which is a way of formatting the output of complex data structures to make them more readable and visually appealing. This is primarily achieved using the pprint module in Python's standard library."
   ]
  },
  {
   "cell_type": "code",
   "execution_count": 13,
   "id": "f73cfe89",
   "metadata": {},
   "outputs": [],
   "source": [
    "from pprint import pprint"
   ]
  },
  {
   "cell_type": "code",
   "execution_count": 14,
   "id": "df073fe6",
   "metadata": {},
   "outputs": [
    {
     "name": "stdout",
     "output_type": "stream",
     "text": [
      "{'emp001': {'Salary': 50000, 'dept': 'Finance', 'name': 'Alice'},\n",
      " 'emp002': {'Salary': 45000, 'dept': 'Marketing', 'name': 'Bob'},\n",
      " 'emp003': {'Salary': 70000, 'dept': 'IT', 'name': 'Smith'}}\n"
     ]
    }
   ],
   "source": [
    "pprint(company)"
   ]
  },
  {
   "cell_type": "markdown",
   "id": "4c1b5092",
   "metadata": {},
   "source": [
    "Add the new key-value pair in the dictionary."
   ]
  },
  {
   "cell_type": "code",
   "execution_count": 36,
   "id": "f840c58f",
   "metadata": {},
   "outputs": [
    {
     "name": "stdout",
     "output_type": "stream",
     "text": [
      "{'emp001': {'name': 'Alice', 'dept': 'Finance', 'Salary': 50000}, 'emp002': {'name': 'Bob', 'dept': 'Marketing', 'Salary': 45000}, 'emp003': {'name': 'Smith', 'dept': 'IT', 'Salary': 70000}, 'emp004': {'name': 'John', 'dept': 'Marketing', 'Salary': 97000}}\n"
     ]
    }
   ],
   "source": [
    "company['emp004'] = {\n",
    "\n",
    "'name' : \"John\",\n",
    "'dept' : \"Marketing\",\n",
    "'Salary' : 97000\n",
    "}\n",
    "print(company)                   "
   ]
  },
  {
   "cell_type": "markdown",
   "id": "48ce65a1",
   "metadata": {},
   "source": [
    "Access the value by using the Keys of dictionary."
   ]
  },
  {
   "cell_type": "code",
   "execution_count": 25,
   "id": "27cdc199",
   "metadata": {},
   "outputs": [
    {
     "data": {
      "text/plain": [
       "'Marketing'"
      ]
     },
     "execution_count": 25,
     "metadata": {},
     "output_type": "execute_result"
    }
   ],
   "source": [
    "company['emp002']['dept']"
   ]
  },
  {
   "cell_type": "markdown",
   "id": "a668fad0",
   "metadata": {},
   "source": [
    "Find the average temperature of lucknow by using the sum and len function."
   ]
  },
  {
   "cell_type": "code",
   "execution_count": 31,
   "id": "5c06126c",
   "metadata": {},
   "outputs": [
    {
     "name": "stdout",
     "output_type": "stream",
     "text": [
      "36.666666666666664\n"
     ]
    }
   ],
   "source": [
    "temp = {'lucknow':[30,35,45],\n",
    "        'delhi' :[56,98,76],\n",
    "        'chennai' :[23,87,54]\n",
    "}\n",
    "\n",
    "print(sum(temp['lucknow'])/len(temp['lucknow']))"
   ]
  },
  {
   "cell_type": "code",
   "execution_count": null,
   "id": "17b483f1",
   "metadata": {},
   "outputs": [],
   "source": []
  }
 ],
 "metadata": {
  "kernelspec": {
   "display_name": "base",
   "language": "python",
   "name": "python3"
  },
  "language_info": {
   "codemirror_mode": {
    "name": "ipython",
    "version": 3
   },
   "file_extension": ".py",
   "mimetype": "text/x-python",
   "name": "python",
   "nbconvert_exporter": "python",
   "pygments_lexer": "ipython3",
   "version": "3.13.2"
  }
 },
 "nbformat": 4,
 "nbformat_minor": 5
}
