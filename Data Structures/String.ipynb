{
 "cells": [
  {
   "cell_type": "code",
   "execution_count": 1,
   "id": "b54eae0f",
   "metadata": {},
   "outputs": [
    {
     "name": "stdout",
     "output_type": "stream",
     "text": [
      "Hello Gorgeous!!!\n"
     ]
    }
   ],
   "source": [
    "String = \"Hello Gorgeous!!!\"\n",
    "print(String)"
   ]
  },
  {
   "cell_type": "code",
   "execution_count": null,
   "id": "d44b5e4b",
   "metadata": {},
   "outputs": [
    {
     "name": "stdout",
     "output_type": "stream",
     "text": [
      "Hello\n"
     ]
    }
   ],
   "source": [
    "# String Slicing\n",
    "print(String[0:5])"
   ]
  },
  {
   "cell_type": "code",
   "execution_count": null,
   "id": "5de66240",
   "metadata": {},
   "outputs": [
    {
     "name": "stdout",
     "output_type": "stream",
     "text": [
      "G\n"
     ]
    }
   ],
   "source": [
    "# String Indexing\n",
    "print(String[6])"
   ]
  },
  {
   "cell_type": "code",
   "execution_count": 4,
   "id": "aefb3ee8",
   "metadata": {},
   "outputs": [
    {
     "name": "stdout",
     "output_type": "stream",
     "text": [
      "H e l l o   G o r g e o u s ! ! ! "
     ]
    }
   ],
   "source": [
    "for i in String:\n",
    "    print (i, end=' ')"
   ]
  },
  {
   "cell_type": "code",
   "execution_count": 7,
   "id": "d0830300",
   "metadata": {},
   "outputs": [
    {
     "name": "stdout",
     "output_type": "stream",
     "text": [
      "50\n"
     ]
    }
   ],
   "source": [
    "a = 20\n",
    "b = 30\n",
    "print(a+b)"
   ]
  },
  {
   "cell_type": "code",
   "execution_count": null,
   "id": "5e037e97",
   "metadata": {},
   "outputs": [
    {
     "name": "stdout",
     "output_type": "stream",
     "text": [
      "2030\n"
     ]
    }
   ],
   "source": [
    "a = '20'\n",
    "b = '30'\n",
    "print(a+b)\n",
    "# String Concetanation"
   ]
  },
  {
   "cell_type": "code",
   "execution_count": 9,
   "id": "f880debc",
   "metadata": {},
   "outputs": [
    {
     "name": "stdout",
     "output_type": "stream",
     "text": [
      "Hello!!!Hello!!!Hello!!!Hello!!!Hello!!!\n"
     ]
    }
   ],
   "source": [
    "# String Replication\n",
    "a = \"Hello!!!\"\n",
    "print(a*5)"
   ]
  },
  {
   "cell_type": "markdown",
   "id": "3ed193b7",
   "metadata": {},
   "source": [
    "# String Methods"
   ]
  },
  {
   "cell_type": "code",
   "execution_count": 10,
   "id": "a5354406",
   "metadata": {},
   "outputs": [
    {
     "data": {
      "text/plain": [
       "'BEAUTIFUL'"
      ]
     },
     "execution_count": 10,
     "metadata": {},
     "output_type": "execute_result"
    }
   ],
   "source": [
    "word = \"beautiful\"\n",
    "word.upper()"
   ]
  },
  {
   "cell_type": "code",
   "execution_count": 11,
   "id": "28b96c10",
   "metadata": {},
   "outputs": [
    {
     "data": {
      "text/plain": [
       "'beautiful'"
      ]
     },
     "execution_count": 11,
     "metadata": {},
     "output_type": "execute_result"
    }
   ],
   "source": [
    "word.lower()"
   ]
  },
  {
   "cell_type": "code",
   "execution_count": 12,
   "id": "40e32f19",
   "metadata": {},
   "outputs": [
    {
     "data": {
      "text/plain": [
       "'Beautiful'"
      ]
     },
     "execution_count": 12,
     "metadata": {},
     "output_type": "execute_result"
    }
   ],
   "source": [
    "word.capitalize()"
   ]
  },
  {
   "cell_type": "code",
   "execution_count": 13,
   "id": "42a3f605",
   "metadata": {},
   "outputs": [
    {
     "name": "stdout",
     "output_type": "stream",
     "text": [
      "Johny Johny yes papa\n",
      "eating sugar no papa\n",
      "telling a lie no papa\n",
      "open your mouth hahaha\n"
     ]
    }
   ],
   "source": [
    "poem  = '''Johny Johny yes papa\n",
    "eating sugar no papa\n",
    "telling a lie no papa\n",
    "open your mouth hahaha'''\n",
    "print(poem)"
   ]
  },
  {
   "cell_type": "code",
   "execution_count": 14,
   "id": "2a6333c5",
   "metadata": {},
   "outputs": [
    {
     "data": {
      "text/plain": [
       "16"
      ]
     },
     "execution_count": 14,
     "metadata": {},
     "output_type": "execute_result"
    }
   ],
   "source": [
    "poem.find('papa')"
   ]
  },
  {
   "cell_type": "code",
   "execution_count": null,
   "id": "f76d5871",
   "metadata": {},
   "outputs": [
    {
     "name": "stdout",
     "output_type": "stream",
     "text": [
      "Johny Johny yes mumma\n",
      "eating sugar no mumma\n",
      "telling a secret no mumma\n",
      "open your mouth hahaha\n"
     ]
    }
   ],
   "source": [
    "# it will replace a single word or multiple words both\n",
    "p = poem.replace('papa','mumma').replace('lie','secret')\n",
    "print(p)"
   ]
  },
  {
   "cell_type": "code",
   "execution_count": 18,
   "id": "612db3d9",
   "metadata": {},
   "outputs": [
    {
     "data": {
      "text/plain": [
       "['Hello', 'Gorgeous!!!']"
      ]
     },
     "execution_count": 18,
     "metadata": {},
     "output_type": "execute_result"
    }
   ],
   "source": [
    "String.split()"
   ]
  },
  {
   "cell_type": "code",
   "execution_count": 19,
   "id": "bf9cd0ac",
   "metadata": {},
   "outputs": [
    {
     "data": {
      "text/plain": [
       "['Johny Johny yes mumma',\n",
       " 'eating sugar no mumma',\n",
       " 'telling a secret no mumma',\n",
       " 'open your mouth hahaha']"
      ]
     },
     "execution_count": 19,
     "metadata": {},
     "output_type": "execute_result"
    }
   ],
   "source": [
    "p.splitlines()"
   ]
  },
  {
   "cell_type": "code",
   "execution_count": null,
   "id": "93e2d0b9",
   "metadata": {},
   "outputs": [
    {
     "name": "stdout",
     "output_type": "stream",
     "text": [
      "Hello Miss!!!"
     ]
    }
   ],
   "source": [
    "# Accessing elements from String by using the while loop\n",
    "Content = \"Hello Miss!!!\"\n",
    "i = 0\n",
    "while i<len(Content):\n",
    "    print(Content[i],end='')\n",
    "    i+=1"
   ]
  },
  {
   "cell_type": "code",
   "execution_count": null,
   "id": "9f539283",
   "metadata": {},
   "outputs": [],
   "source": []
  }
 ],
 "metadata": {
  "kernelspec": {
   "display_name": "base",
   "language": "python",
   "name": "python3"
  },
  "language_info": {
   "codemirror_mode": {
    "name": "ipython",
    "version": 3
   },
   "file_extension": ".py",
   "mimetype": "text/x-python",
   "name": "python",
   "nbconvert_exporter": "python",
   "pygments_lexer": "ipython3",
   "version": "3.13.2"
  }
 },
 "nbformat": 4,
 "nbformat_minor": 5
}
