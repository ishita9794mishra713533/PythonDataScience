{
 "cells": [
  {
   "cell_type": "markdown",
   "id": "07ae9ee1",
   "metadata": {},
   "source": [
    "# File Handling"
   ]
  },
  {
   "cell_type": "markdown",
   "id": "bb96d696",
   "metadata": {},
   "source": [
    "The file handle is basically used to handle the large datasets."
   ]
  },
  {
   "cell_type": "markdown",
   "id": "74830f47",
   "metadata": {},
   "source": [
    "Operations in File Handling:\n",
    "- Open\n",
    "- Read\n",
    "- Write\n",
    "- Close"
   ]
  },
  {
   "cell_type": "markdown",
   "id": "ae5387d3",
   "metadata": {},
   "source": [
    "Modes in File Handling:\n",
    "\n",
    "- Read        :       [read mode]\n",
    "- Write        :     [write mode]\n",
    "- Append        :     [If we want to add something at the end of the file]\n",
    "- R+             :    [it's for both read and write]\n",
    "- W+             :    [it's for both read and write]\n",
    "- A+             :    [it's for both read and append]\n",
    "    "
   ]
  },
  {
   "cell_type": "code",
   "execution_count": 2,
   "id": "8c21ec70",
   "metadata": {},
   "outputs": [],
   "source": [
    "import os"
   ]
  },
  {
   "cell_type": "code",
   "execution_count": 12,
   "id": "e413e59f",
   "metadata": {},
   "outputs": [
    {
     "name": "stdout",
     "output_type": "stream",
     "text": [
      "Current Working Directory is: c:\\Users\\hp\\Desktop\\PythonDataScience\\Data Structures\n"
     ]
    }
   ],
   "source": [
    "print('Current Working Directory is:', os.getcwd())"
   ]
  },
  {
   "cell_type": "code",
   "execution_count": 13,
   "id": "5f8df037",
   "metadata": {},
   "outputs": [
    {
     "name": "stdout",
     "output_type": "stream",
     "text": [
      "Files in current working directory ['Dictionary.ipynb', 'File.txt', 'FileHandling.ipynb', 'File_1.txt', 'File_2.txt', 'File_3.txt', 'Functions.ipynb', 'Libraries.ipynb', 'List.ipynb', 'my_file.txt', 'Pattern3.py', 'Pattern4.py', 'Pattern5.py', 'Python Test1.ipynb', 'Sets.ipynb', 'String.ipynb', 'Tuples.ipynb']\n"
     ]
    }
   ],
   "source": [
    "files = os.listdir()\n",
    "print('Files in current working directory', files)"
   ]
  },
  {
   "cell_type": "code",
   "execution_count": 5,
   "id": "ec9b26a6",
   "metadata": {},
   "outputs": [
    {
     "name": "stdout",
     "output_type": "stream",
     "text": [
      "Files in current working directory ['.git', 'Armstrong.py', 'Assignment1.ipynb', 'basics.ipynb', 'Conditions.ipynb', 'Data Structures', 'Data Types in Python.ipynb', 'Fibonacci.py', 'File.txt', 'FileHandling.ipynb', 'File_1.txt', 'File_2.txt', 'File_3.txt', 'flask', 'Functions.ipynb', 'Libraries.ipynb', 'List.ipynb', 'Loops.ipynb', 'my_file.txt', 'operators.ipynb', 'Palindrome.py', 'Pattern.py', 'Pattern2.py', 'Pattern3.py', 'Pattern4.py', 'Pattern5.py', 'Prime.py', 'Python Test1.ipynb']\n"
     ]
    }
   ],
   "source": [
    "files = os.listdir(r\"C:\\Users\\hp\\Desktop\\PythonDataScience\")\n",
    "print('Files in current working directory', files)\n",
    "# Relative path is used when the folder is saved in the root directory.\n",
    "# Absolute path is a complete path."
   ]
  },
  {
   "cell_type": "code",
   "execution_count": 6,
   "id": "7dd3dba3",
   "metadata": {},
   "outputs": [
    {
     "name": "stdout",
     "output_type": "stream",
     "text": [
      "=> C:\\Users\\hp\\Desktop\\PythonDataScience\n",
      "📁 ['.git', 'Data Structures', 'flask']\n",
      "🗄 ['Armstrong.py', 'Assignment1.ipynb', 'basics.ipynb', 'Conditions.ipynb', 'Data Types in Python.ipynb', 'Fibonacci.py', 'File.txt', 'FileHandling.ipynb', 'File_1.txt', 'File_2.txt', 'File_3.txt', 'Functions.ipynb', 'Libraries.ipynb', 'List.ipynb', 'Loops.ipynb', 'my_file.txt', 'operators.ipynb', 'Palindrome.py', 'Pattern.py', 'Pattern2.py', 'Pattern3.py', 'Pattern4.py', 'Pattern5.py', 'Prime.py', 'Python Test1.ipynb']\n",
      "=> C:\\Users\\hp\\Desktop\\PythonDataScience\\.git\n",
      "📁 ['hooks', 'info', 'logs', 'objects', 'refs']\n",
      "🗄 ['COMMIT_EDITMSG', 'config', 'description', 'FETCH_HEAD', 'HEAD', 'index', 'ORIG_HEAD']\n",
      "=> C:\\Users\\hp\\Desktop\\PythonDataScience\\.git\\hooks\n",
      "📁 []\n",
      "🗄 ['applypatch-msg.sample', 'commit-msg.sample', 'fsmonitor-watchman.sample', 'post-update.sample', 'pre-applypatch.sample', 'pre-commit.sample', 'pre-merge-commit.sample', 'pre-push.sample', 'pre-rebase.sample', 'pre-receive.sample', 'prepare-commit-msg.sample', 'push-to-checkout.sample', 'sendemail-validate.sample', 'update.sample']\n",
      "=> C:\\Users\\hp\\Desktop\\PythonDataScience\\.git\\info\n",
      "📁 []\n",
      "🗄 ['exclude']\n",
      "=> C:\\Users\\hp\\Desktop\\PythonDataScience\\.git\\logs\n",
      "📁 ['refs']\n",
      "🗄 ['HEAD']\n",
      "=> C:\\Users\\hp\\Desktop\\PythonDataScience\\.git\\logs\\refs\n",
      "📁 ['heads', 'remotes']\n",
      "🗄 []\n",
      "=> C:\\Users\\hp\\Desktop\\PythonDataScience\\.git\\logs\\refs\\heads\n",
      "📁 []\n",
      "🗄 ['main']\n",
      "=> C:\\Users\\hp\\Desktop\\PythonDataScience\\.git\\logs\\refs\\remotes\n",
      "📁 ['origin']\n",
      "🗄 []\n",
      "=> C:\\Users\\hp\\Desktop\\PythonDataScience\\.git\\logs\\refs\\remotes\\origin\n",
      "📁 []\n",
      "🗄 ['main']\n",
      "=> C:\\Users\\hp\\Desktop\\PythonDataScience\\.git\\objects\n",
      "📁 ['00', '05', '06', '08', '0d', '15', '1a', '1b', '1c', '20', '27', '29', '39', '3b', '3c', '42', '45', '4a', '4b', '4d', '4e', '50', '53', '54', '59', '62', '64', '6f', '75', '81', '83', '85', '8b', '8e', '93', '97', 'a0', 'a1', 'a3', 'a4', 'a6', 'a7', 'af', 'b1', 'b7', 'b8', 'bc', 'c1', 'd1', 'd2', 'd9', 'de', 'df', 'e0', 'e4', 'ef', 'f5', 'fe', 'info', 'pack']\n",
      "🗄 []\n",
      "=> C:\\Users\\hp\\Desktop\\PythonDataScience\\.git\\objects\\00\n",
      "📁 []\n",
      "🗄 ['72dc015ecd173c61886309834a8331eaad7d3b']\n",
      "=> C:\\Users\\hp\\Desktop\\PythonDataScience\\.git\\objects\\05\n",
      "📁 []\n",
      "🗄 ['29838d921b8ff55146efdf88ddafd7daa9043c']\n",
      "=> C:\\Users\\hp\\Desktop\\PythonDataScience\\.git\\objects\\06\n",
      "📁 []\n",
      "🗄 ['b77439c0b4d0dcfc6f28c992d0b46982faaa91']\n",
      "=> C:\\Users\\hp\\Desktop\\PythonDataScience\\.git\\objects\\08\n",
      "📁 []\n",
      "🗄 ['077d82fb1cc665d2f703e7c4b7cb98b8ce479a']\n",
      "=> C:\\Users\\hp\\Desktop\\PythonDataScience\\.git\\objects\\0d\n",
      "📁 []\n",
      "🗄 ['67e11fc8d52bb23124d02250517127ff0cc3d2']\n",
      "=> C:\\Users\\hp\\Desktop\\PythonDataScience\\.git\\objects\\15\n",
      "📁 []\n",
      "🗄 ['a176b96349025d759275dd7d80928ca86a5fc2']\n",
      "=> C:\\Users\\hp\\Desktop\\PythonDataScience\\.git\\objects\\1a\n",
      "📁 []\n",
      "🗄 ['ca27d016bec8e4b0c0e3a49d27562cf31b2f0d']\n",
      "=> C:\\Users\\hp\\Desktop\\PythonDataScience\\.git\\objects\\1b\n",
      "📁 []\n",
      "🗄 ['5d90f02f213c1b05248df39719fc96338c0825', 'd54f200968346c3af0c26767f7ab7e9414cba3']\n",
      "=> C:\\Users\\hp\\Desktop\\PythonDataScience\\.git\\objects\\1c\n",
      "📁 []\n",
      "🗄 ['27b5150c7e49d98027e2973de8fd1ab9987bd3']\n",
      "=> C:\\Users\\hp\\Desktop\\PythonDataScience\\.git\\objects\\20\n",
      "📁 []\n",
      "🗄 ['431cab3c3ae7cdbcdc082384608a0d07a08437', '4c70488f5a5c860954a292e5fb290dc5830dd5', '94cc3df0b92aff4906c6523cd993a4e0454001']\n",
      "=> C:\\Users\\hp\\Desktop\\PythonDataScience\\.git\\objects\\27\n",
      "📁 []\n",
      "🗄 ['126c0734c9987e227916fe5c130a492ebc2491']\n",
      "=> C:\\Users\\hp\\Desktop\\PythonDataScience\\.git\\objects\\29\n",
      "📁 []\n",
      "🗄 []\n",
      "=> C:\\Users\\hp\\Desktop\\PythonDataScience\\.git\\objects\\39\n",
      "📁 []\n",
      "🗄 []\n",
      "=> C:\\Users\\hp\\Desktop\\PythonDataScience\\.git\\objects\\3b\n",
      "📁 []\n",
      "🗄 ['108ec6b3f26171ee2e7a158a3eb2146d3c56c9']\n",
      "=> C:\\Users\\hp\\Desktop\\PythonDataScience\\.git\\objects\\3c\n",
      "📁 []\n",
      "🗄 ['5b7e3cb11ff4a212f1ea88d2c47c3475f95b22']\n",
      "=> C:\\Users\\hp\\Desktop\\PythonDataScience\\.git\\objects\\42\n",
      "📁 []\n",
      "🗄 ['a8a4a8d106bfa58810766568f052dd17981e9a']\n",
      "=> C:\\Users\\hp\\Desktop\\PythonDataScience\\.git\\objects\\45\n",
      "📁 []\n",
      "🗄 ['19c826d721f3c8e16af2fc6ccb95d11be1c9c7', 'd357c47dde0c2b6ed3ed538673a0b0af7fef0c']\n",
      "=> C:\\Users\\hp\\Desktop\\PythonDataScience\\.git\\objects\\4a\n",
      "📁 []\n",
      "🗄 ['00183139132261812f8fdb7afdb0becd10b7b8']\n",
      "=> C:\\Users\\hp\\Desktop\\PythonDataScience\\.git\\objects\\4b\n",
      "📁 []\n",
      "🗄 ['8583e9fb4b6622bc570bcf0af7eda426a7e77a', 'ff3a9456162097fc72663ba3636f5493d58059']\n",
      "=> C:\\Users\\hp\\Desktop\\PythonDataScience\\.git\\objects\\4d\n",
      "📁 []\n",
      "🗄 ['c25637f9b4f1127e0d7929c986d9b7e371c07d']\n",
      "=> C:\\Users\\hp\\Desktop\\PythonDataScience\\.git\\objects\\4e\n",
      "📁 []\n",
      "🗄 ['75638cac77d7809e885b07a9f343228d2dfad9']\n",
      "=> C:\\Users\\hp\\Desktop\\PythonDataScience\\.git\\objects\\50\n",
      "📁 []\n",
      "🗄 ['8bbfec909a1ceb560266c93e6ac7878301548c']\n",
      "=> C:\\Users\\hp\\Desktop\\PythonDataScience\\.git\\objects\\53\n",
      "📁 []\n",
      "🗄 ['d8524c186f3398bacaa225061bef96388071cc']\n",
      "=> C:\\Users\\hp\\Desktop\\PythonDataScience\\.git\\objects\\54\n",
      "📁 []\n",
      "🗄 ['321889cdd87fe6ea10ae15e66448205a344059']\n",
      "=> C:\\Users\\hp\\Desktop\\PythonDataScience\\.git\\objects\\59\n",
      "📁 []\n",
      "🗄 ['33efc16ec500a21e64d68a7c1b26dfb1a370e4']\n",
      "=> C:\\Users\\hp\\Desktop\\PythonDataScience\\.git\\objects\\62\n",
      "📁 []\n",
      "🗄 ['f82ba248d6a3faa0c916a630461d9112b859cb']\n",
      "=> C:\\Users\\hp\\Desktop\\PythonDataScience\\.git\\objects\\64\n",
      "📁 []\n",
      "🗄 ['09fdc0650ce3b3fb8d5e9716b69df4b25cb78f']\n",
      "=> C:\\Users\\hp\\Desktop\\PythonDataScience\\.git\\objects\\6f\n",
      "📁 []\n",
      "🗄 ['a0e09ec77b63069a04b0ed3379485c80afe347']\n",
      "=> C:\\Users\\hp\\Desktop\\PythonDataScience\\.git\\objects\\75\n",
      "📁 []\n",
      "🗄 ['6aed52d67f31e28b0a50269fa7ef14914adde1']\n",
      "=> C:\\Users\\hp\\Desktop\\PythonDataScience\\.git\\objects\\81\n",
      "📁 []\n",
      "🗄 ['2c632eabac4ef606b124a9dd4d35dd73250888']\n",
      "=> C:\\Users\\hp\\Desktop\\PythonDataScience\\.git\\objects\\83\n",
      "📁 []\n",
      "🗄 ['b0d0f5a428408fe1b4cb6246bc7c1a9b4e2476']\n",
      "=> C:\\Users\\hp\\Desktop\\PythonDataScience\\.git\\objects\\85\n",
      "📁 []\n",
      "🗄 ['d0a3904f3669b28aecbcf0bc70b01532b413a3']\n",
      "=> C:\\Users\\hp\\Desktop\\PythonDataScience\\.git\\objects\\8b\n",
      "📁 []\n",
      "🗄 ['e9321225ff239530eb66e57eb3c08d81036183']\n",
      "=> C:\\Users\\hp\\Desktop\\PythonDataScience\\.git\\objects\\8e\n",
      "📁 []\n",
      "🗄 ['cd4de719a3cb3bb150a2bb0111698211ced5e9']\n",
      "=> C:\\Users\\hp\\Desktop\\PythonDataScience\\.git\\objects\\93\n",
      "📁 []\n",
      "🗄 ['8a03b62c8792bf0ea96885332b861f1454b08b', 'e345a236330b3e076621a099a70d61a113192a']\n",
      "=> C:\\Users\\hp\\Desktop\\PythonDataScience\\.git\\objects\\97\n",
      "📁 []\n",
      "🗄 ['3994157b7805986ce5035b2dc30be167733aaf', '3e854d8c3d3b7705508b80bc74b3e6a26094f2']\n",
      "=> C:\\Users\\hp\\Desktop\\PythonDataScience\\.git\\objects\\a0\n",
      "📁 []\n",
      "🗄 ['d5d1e7c57398647cda0e343569be446e187605']\n",
      "=> C:\\Users\\hp\\Desktop\\PythonDataScience\\.git\\objects\\a1\n",
      "📁 []\n",
      "🗄 ['6f9c2beea3e12e3aaacb34055fbcd4acd12f60']\n",
      "=> C:\\Users\\hp\\Desktop\\PythonDataScience\\.git\\objects\\a3\n",
      "📁 []\n",
      "🗄 ['a89bbda66c8c76352cad4e58236041fafe3ed0']\n",
      "=> C:\\Users\\hp\\Desktop\\PythonDataScience\\.git\\objects\\a4\n",
      "📁 []\n",
      "🗄 ['7c648314f42fc8eca41ed685b2c7c5b1d9cfff']\n",
      "=> C:\\Users\\hp\\Desktop\\PythonDataScience\\.git\\objects\\a6\n",
      "📁 []\n",
      "🗄 ['5ffee07222e82354ea887a7d78bbb3abdd08ed', 'af655ee1e48082bb1480fc7df696785513ff61']\n",
      "=> C:\\Users\\hp\\Desktop\\PythonDataScience\\.git\\objects\\a7\n",
      "📁 []\n",
      "🗄 ['94a820c159d82542d000f3610c2063a1419f36', 'ba89ba7513a0ce07248ca6120e7a2efb49ffec']\n",
      "=> C:\\Users\\hp\\Desktop\\PythonDataScience\\.git\\objects\\af\n",
      "📁 []\n",
      "🗄 ['b9e6240f74852bb19376d858b9006db0b88e72']\n",
      "=> C:\\Users\\hp\\Desktop\\PythonDataScience\\.git\\objects\\b1\n",
      "📁 []\n",
      "🗄 ['0f5358889a5b84bfa9dcbc8dea526ef8aa91f7']\n",
      "=> C:\\Users\\hp\\Desktop\\PythonDataScience\\.git\\objects\\b7\n",
      "📁 []\n",
      "🗄 ['8a8ca221da24a56d53b1b7eb804b1b12d207a2']\n",
      "=> C:\\Users\\hp\\Desktop\\PythonDataScience\\.git\\objects\\b8\n",
      "📁 []\n",
      "🗄 ['98d852ac5f1af40e5d7d0b9afc6a485f2614c8', '9df85aca355db0d898bec2e2dfcd6964b518e9']\n",
      "=> C:\\Users\\hp\\Desktop\\PythonDataScience\\.git\\objects\\bc\n",
      "📁 []\n",
      "🗄 ['2528f7d187200dcd1c86ee28e7f06494382597']\n",
      "=> C:\\Users\\hp\\Desktop\\PythonDataScience\\.git\\objects\\c1\n",
      "📁 []\n",
      "🗄 ['216ae48b531b45cc5281bd5f505d56dbbc76fa']\n",
      "=> C:\\Users\\hp\\Desktop\\PythonDataScience\\.git\\objects\\d1\n",
      "📁 []\n",
      "🗄 ['4a36b1bda254aa7db41d3c1a1568003ac90d5f']\n",
      "=> C:\\Users\\hp\\Desktop\\PythonDataScience\\.git\\objects\\d2\n",
      "📁 []\n",
      "🗄 ['22d37d7b251f78163cc7977ee47b7299dd4bf9']\n",
      "=> C:\\Users\\hp\\Desktop\\PythonDataScience\\.git\\objects\\d9\n",
      "📁 []\n",
      "🗄 ['3f2c1d4b719d81803d4f9abf5c7385dc019ac4', '74ed5e27a8dcb5a9451ced88569874cc32df0c']\n",
      "=> C:\\Users\\hp\\Desktop\\PythonDataScience\\.git\\objects\\de\n",
      "📁 []\n",
      "🗄 ['05f1b056046138011d0bbc617f50d6b39df206', 'b788c7c528c64cac9e5aa1bb70223458a46e0d']\n",
      "=> C:\\Users\\hp\\Desktop\\PythonDataScience\\.git\\objects\\df\n",
      "📁 []\n",
      "🗄 ['9bc8546655b72e9d190f942e4862c5211c733e', 'd963579241b3302eb78cae538c0d5feaabedab']\n",
      "=> C:\\Users\\hp\\Desktop\\PythonDataScience\\.git\\objects\\e0\n",
      "📁 []\n",
      "🗄 ['0661a483163ff6b56c3bce05d6854e5f599495']\n",
      "=> C:\\Users\\hp\\Desktop\\PythonDataScience\\.git\\objects\\e4\n",
      "📁 []\n",
      "🗄 ['566a30c5b3d8ba1feeb048001063f61e7539e8']\n",
      "=> C:\\Users\\hp\\Desktop\\PythonDataScience\\.git\\objects\\ef\n",
      "📁 []\n",
      "🗄 ['bd242d4c7bc1b23ea704fc543a83d52eabbe34']\n",
      "=> C:\\Users\\hp\\Desktop\\PythonDataScience\\.git\\objects\\f5\n",
      "📁 []\n",
      "🗄 ['af4fe81dd0e2342a7534c51a6c58a772b45fba']\n",
      "=> C:\\Users\\hp\\Desktop\\PythonDataScience\\.git\\objects\\fe\n",
      "📁 []\n",
      "🗄 ['4e18364dd60a646114bb75f5336d987ea871c5', '5d0aa58eb6b6dc1cec5726c27d0ad6c0dceb56', '8196a08f039221ae913be290b8567a58d3b2e0']\n",
      "=> C:\\Users\\hp\\Desktop\\PythonDataScience\\.git\\objects\\info\n",
      "📁 []\n",
      "🗄 []\n",
      "=> C:\\Users\\hp\\Desktop\\PythonDataScience\\.git\\objects\\pack\n",
      "📁 []\n",
      "🗄 []\n",
      "=> C:\\Users\\hp\\Desktop\\PythonDataScience\\.git\\refs\n",
      "📁 ['heads', 'remotes', 'tags']\n",
      "🗄 []\n",
      "=> C:\\Users\\hp\\Desktop\\PythonDataScience\\.git\\refs\\heads\n",
      "📁 []\n",
      "🗄 ['main']\n",
      "=> C:\\Users\\hp\\Desktop\\PythonDataScience\\.git\\refs\\remotes\n",
      "📁 ['origin']\n",
      "🗄 []\n",
      "=> C:\\Users\\hp\\Desktop\\PythonDataScience\\.git\\refs\\remotes\\origin\n",
      "📁 []\n",
      "🗄 ['main']\n",
      "=> C:\\Users\\hp\\Desktop\\PythonDataScience\\.git\\refs\\tags\n",
      "📁 []\n",
      "🗄 []\n",
      "=> C:\\Users\\hp\\Desktop\\PythonDataScience\\Data Structures\n",
      "📁 []\n",
      "🗄 ['Dictionary.ipynb', 'List.ipynb', 'Sets.ipynb', 'String.ipynb', 'Tuples.ipynb']\n",
      "=> C:\\Users\\hp\\Desktop\\PythonDataScience\\flask\n",
      "📁 ['static', 'templates']\n",
      "🗄 ['app.py']\n",
      "=> C:\\Users\\hp\\Desktop\\PythonDataScience\\flask\\static\n",
      "📁 []\n",
      "🗄 []\n",
      "=> C:\\Users\\hp\\Desktop\\PythonDataScience\\flask\\templates\n",
      "📁 []\n",
      "🗄 ['about.html', 'index.html', 'login.html', 'register.html']\n",
      "Total files in directory tree: 133\n"
     ]
    }
   ],
   "source": [
    "total_files = 0\n",
    "for path, folders, files in os.walk(r\"C:\\Users\\hp\\Desktop\\PythonDataScience\"):\n",
    "   print('=>',path)\n",
    "   print('📁',folders)\n",
    "   print('🗄',files)\n",
    "   total_files += len(files)\n",
    "print('Total files in directory tree:',total_files)\n"
   ]
  },
  {
   "cell_type": "code",
   "execution_count": 9,
   "id": "db24cca0",
   "metadata": {},
   "outputs": [
    {
     "name": "stdout",
     "output_type": "stream",
     "text": [
      "The file exists\n"
     ]
    }
   ],
   "source": [
    "files = \"Data Types in Python.ipynb\"\n",
    "if os.path.exists(files):\n",
    "    print('The file exists')\n",
    "else:\n",
    "    print('The file does not exist')"
   ]
  },
  {
   "cell_type": "markdown",
   "id": "a8518fdd",
   "metadata": {},
   "source": [
    "Creation of a file"
   ]
  },
  {
   "cell_type": "code",
   "execution_count": 5,
   "id": "e231e822",
   "metadata": {},
   "outputs": [],
   "source": [
    "# f1 = open(\"File_1.txt\",\"x\")\n",
    "#x : It is used for the creation of the file."
   ]
  },
  {
   "cell_type": "markdown",
   "id": "7c4ea44a",
   "metadata": {},
   "source": [
    "File open in a Read Mode"
   ]
  },
  {
   "cell_type": "code",
   "execution_count": null,
   "id": "75190d8e",
   "metadata": {},
   "outputs": [
    {
     "name": "stdout",
     "output_type": "stream",
     "text": [
      "Hi, I'm Ishita\n",
      "and I'm learning File Handling In Python.\n",
      "\n"
     ]
    }
   ],
   "source": [
    "f1 = open(\"File_1.txt\",\"r\")\n",
    "data = f1.read()\n",
    "print(data)"
   ]
  },
  {
   "cell_type": "markdown",
   "id": "b043521c",
   "metadata": {},
   "source": [
    "File open in a Default Mode"
   ]
  },
  {
   "cell_type": "code",
   "execution_count": 7,
   "id": "ed2838ea",
   "metadata": {},
   "outputs": [
    {
     "name": "stdout",
     "output_type": "stream",
     "text": [
      "Hi, I'm Ishita\n",
      "and I'm learning File Handling In Python.\n",
      "\n"
     ]
    }
   ],
   "source": [
    "f1 = open(\"File_1.txt\")\n",
    "data = f1.read()\n",
    "print(data)\n",
    "# By default it will take a read mode."
   ]
  },
  {
   "cell_type": "markdown",
   "id": "52dd60b9",
   "metadata": {},
   "source": [
    "File open in a Write Mode"
   ]
  },
  {
   "cell_type": "code",
   "execution_count": 18,
   "id": "4153eae5",
   "metadata": {},
   "outputs": [],
   "source": [
    "with open(\"my_file.txt\",\"w\") as f2:\n",
    "    f2.write(\"Hello_Digipodiums!!!!\")\n",
    "    "
   ]
  },
  {
   "cell_type": "markdown",
   "id": "b1d961a4",
   "metadata": {},
   "source": [
    "File open in a R+ Mode:\n",
    "\n",
    "Firstly we have to read the data in the file and then add some extra content."
   ]
  },
  {
   "cell_type": "code",
   "execution_count": 10,
   "id": "84cead16",
   "metadata": {},
   "outputs": [
    {
     "name": "stdout",
     "output_type": "stream",
     "text": [
      "Hie\n",
      "This is Ishita here!!!is is Ishita here!!!\u0000\u0000\u0000\u0000\u0000\u0000\u0000\u0000\u0000\u0000\u0000\u0000\u0000\u0000\u0000\u0000\u0000\u0000\u0000\u0000\u0000\u0000\u0000\u0000\u0000\u0000\u0000\u0000\u0000\u0000\u0000\u0000\u0000\u0000\u0000\u0000\u0000\u0000\u0000\u0000\u0000\u0000\u0000\u0000\u0000\u0000\u0000\u0000\u0000\u0000\u0000\u0000\u0000\u0000\u0000\u0000\u0000\u0000\u0000\u0000\u0000\u0000\u0000\u0000\u0000\u0000\n",
      "Ishita here!!!\n"
     ]
    },
    {
     "data": {
      "text/plain": [
       "15"
      ]
     },
     "execution_count": 10,
     "metadata": {},
     "output_type": "execute_result"
    }
   ],
   "source": [
    "f = open(\"File_2.txt\",\"r+\")\n",
    "\n",
    "print(f.read())\n",
    "\n",
    "f.write(\"\\nIshita here!!!\")"
   ]
  },
  {
   "cell_type": "markdown",
   "id": "2d5b973c",
   "metadata": {},
   "source": [
    "File open in a Read Mode"
   ]
  },
  {
   "cell_type": "code",
   "execution_count": 8,
   "id": "318da450",
   "metadata": {},
   "outputs": [
    {
     "name": "stdout",
     "output_type": "stream",
     "text": [
      "Hie\n",
      "This is Ishita here!!!\n"
     ]
    }
   ],
   "source": [
    "fs = open(\"File_2.txt\",\"r\")\n",
    "data = fs.read()\n",
    "print(data)"
   ]
  },
  {
   "cell_type": "markdown",
   "id": "a8519fdb",
   "metadata": {},
   "source": [
    "Tell() Function:"
   ]
  },
  {
   "cell_type": "code",
   "execution_count": null,
   "id": "9d5dba72",
   "metadata": {},
   "outputs": [
    {
     "name": "stdout",
     "output_type": "stream",
     "text": [
      "0\n",
      "28\n"
     ]
    }
   ],
   "source": [
    "#tell() function will tell the position of file pointer.\n",
    "fs = open(\"File_2.txt\",\"r\")\n",
    "print(fs.tell())\n",
    "fs.read()\n",
    "print(fs.tell())"
   ]
  },
  {
   "cell_type": "markdown",
   "id": "960ae32b",
   "metadata": {},
   "source": [
    "File  open in a W+ Mode:\n",
    "\n",
    "It overwrites the previous content in a file."
   ]
  },
  {
   "cell_type": "code",
   "execution_count": 14,
   "id": "f908930c",
   "metadata": {},
   "outputs": [
    {
     "name": "stdout",
     "output_type": "stream",
     "text": [
      "0\n",
      "12\n",
      "36\n",
      "Hie EveryoneThis is Python Course!!!\n"
     ]
    }
   ],
   "source": [
    "file = open(\"File_3.txt\",\"w+\")\n",
    "print(file.tell())\n",
    "file.write(\"Hie Everyone\")\n",
    "print(file.tell())\n",
    "file.write(\"This is Python Course!!!\")\n",
    "print(file.tell())\n",
    "file.seek(0)\n",
    "\n",
    "#Seek() function is used to change the position of file pointer,\n",
    "\n",
    "data= file.read()\n",
    "print(data)"
   ]
  },
  {
   "cell_type": "markdown",
   "id": "3759cb98",
   "metadata": {},
   "source": [
    "Append Mode: \n",
    "-  If a file opened in an append mode, the file pointer will at the end of the file."
   ]
  },
  {
   "cell_type": "code",
   "execution_count": 3,
   "id": "35bee6f1",
   "metadata": {},
   "outputs": [
    {
     "data": {
      "text/plain": [
       "25"
      ]
     },
     "execution_count": 3,
     "metadata": {},
     "output_type": "execute_result"
    }
   ],
   "source": [
    "f1 = open(\"File.txt\",\"a\")\n",
    "f1.write(\"Welcome to the digipodium\")\n",
    "#If a file doesn't exist, it will create a new file.\n",
    "\n"
   ]
  },
  {
   "cell_type": "markdown",
   "id": "db39ef17",
   "metadata": {},
   "source": [
    "File open in a A+ Mode:\n",
    "\n",
    "- It will open a file in append mode/ read and write mode."
   ]
  },
  {
   "cell_type": "code",
   "execution_count": 4,
   "id": "3145c0bb",
   "metadata": {},
   "outputs": [
    {
     "name": "stdout",
     "output_type": "stream",
     "text": [
      "50\n",
      "Welcome to the digipodiumWelcome to the digipodium\n"
     ]
    }
   ],
   "source": [
    "f6 = open(\"File.txt\",\"a+\")\n",
    "print(f6.tell())\n",
    "f6.seek(0)\n",
    "print(f6.read())"
   ]
  },
  {
   "cell_type": "code",
   "execution_count": 7,
   "id": "87cf3ce2",
   "metadata": {},
   "outputs": [
    {
     "name": "stdout",
     "output_type": "stream",
     "text": [
      "51\n",
      "Welcome to the digipodiumThis is a jupyter notebookThis is a jupyter notebook\n"
     ]
    },
    {
     "data": {
      "text/plain": [
       "26"
      ]
     },
     "execution_count": 7,
     "metadata": {},
     "output_type": "execute_result"
    }
   ],
   "source": [
    "f6 = open(\"File.txt\",\"a+\")\n",
    "print(f6.tell())\n",
    "f6.seek(0)\n",
    "print(f6.read())\n",
    "f6.write(\"This is a jupyter notebook\")"
   ]
  },
  {
   "cell_type": "code",
   "execution_count": null,
   "id": "a68f0abd",
   "metadata": {},
   "outputs": [],
   "source": []
  }
 ],
 "metadata": {
  "kernelspec": {
   "display_name": "base",
   "language": "python",
   "name": "python3"
  },
  "language_info": {
   "codemirror_mode": {
    "name": "ipython",
    "version": 3
   },
   "file_extension": ".py",
   "mimetype": "text/x-python",
   "name": "python",
   "nbconvert_exporter": "python",
   "pygments_lexer": "ipython3",
   "version": "3.13.2"
  }
 },
 "nbformat": 4,
 "nbformat_minor": 5
}
