{
 "cells": [
  {
   "cell_type": "markdown",
   "id": "72f3e9cc",
   "metadata": {},
   "source": [
    "# Libraries"
   ]
  },
  {
   "cell_type": "code",
   "execution_count": 1,
   "id": "0b9f15df",
   "metadata": {},
   "outputs": [],
   "source": [
    "#In-built libraries\n",
    "\n",
    "import math"
   ]
  },
  {
   "cell_type": "code",
   "execution_count": 10,
   "id": "fd0fb13e",
   "metadata": {},
   "outputs": [
    {
     "name": "stdout",
     "output_type": "stream",
     "text": [
      "120\n",
      "1\n",
      "0.8714479827243188\n",
      "12\n",
      "0.7539022543433046\n"
     ]
    }
   ],
   "source": [
    "print(math.factorial(5))\n",
    "print(math.gcd(2,5,7))\n",
    "print(math.tan(7))\n",
    "print(math.lcm(2,4,6))\n",
    "print(math.cos(7))"
   ]
  },
  {
   "cell_type": "code",
   "execution_count": 11,
   "id": "16f8ff7d",
   "metadata": {},
   "outputs": [],
   "source": [
    "from random import random,randint,choice,shuffle"
   ]
  },
  {
   "cell_type": "code",
   "execution_count": 12,
   "id": "0132736f",
   "metadata": {},
   "outputs": [],
   "source": [
    "import random"
   ]
  },
  {
   "cell_type": "code",
   "execution_count": 13,
   "id": "b9bbaba2",
   "metadata": {},
   "outputs": [
    {
     "name": "stdout",
     "output_type": "stream",
     "text": [
      "67\n"
     ]
    }
   ],
   "source": [
    "print(random.randint(2,100))"
   ]
  },
  {
   "cell_type": "code",
   "execution_count": 14,
   "id": "794f38a1",
   "metadata": {},
   "outputs": [
    {
     "name": "stdout",
     "output_type": "stream",
     "text": [
      "0.13712312401715698\n"
     ]
    }
   ],
   "source": [
    "print(random.random())"
   ]
  },
  {
   "cell_type": "code",
   "execution_count": 15,
   "id": "10581f40",
   "metadata": {},
   "outputs": [],
   "source": [
    "import statistics"
   ]
  },
  {
   "cell_type": "code",
   "execution_count": 18,
   "id": "2d91949b",
   "metadata": {},
   "outputs": [
    {
     "name": "stdout",
     "output_type": "stream",
     "text": [
      "0.7122306511398631\n"
     ]
    }
   ],
   "source": [
    "print(random.random())"
   ]
  },
  {
   "cell_type": "code",
   "execution_count": 19,
   "id": "bd336efe",
   "metadata": {},
   "outputs": [
    {
     "name": "stdout",
     "output_type": "stream",
     "text": [
      "5\n"
     ]
    }
   ],
   "source": [
    "print(random.randint(2,8))"
   ]
  },
  {
   "cell_type": "markdown",
   "id": "ba9bd245",
   "metadata": {},
   "source": [
    "- Random Function will give the nearest value of 0 . \n",
    "- Randint Function will give any random number according to the range which is given by the user.\n",
    "- Choice Function will give any random number according to the list which is given by the user."
   ]
  },
  {
   "cell_type": "code",
   "execution_count": 22,
   "id": "cb9e4aa9",
   "metadata": {},
   "outputs": [
    {
     "name": "stdout",
     "output_type": "stream",
     "text": [
      "Give number between 0 and 1 0.17516906387848685\n",
      "Give number between 2 and 8 3\n",
      "Choose a number from the list 5\n",
      "Shuffled List: ['John', 'Jill', 'Jane', 'Jack']\n"
     ]
    }
   ],
   "source": [
    "print(\"Give number between 0 and 1\",random.random())\n",
    "print(\"Give number between 2 and 8\", random.randint(2,8))\n",
    "print(\"Choose a number from the list\",random.choice([2,5,3,7,6,8]))\n",
    "name = ['John','Jack','Jane', 'Jill']\n",
    "shuffle(name)\n",
    "print('Shuffled List:',name)"
   ]
  },
  {
   "cell_type": "code",
   "execution_count": 3,
   "id": "4ca01cd1",
   "metadata": {},
   "outputs": [],
   "source": [
    "from datetime import datetime as dt\n",
    "#alias is used to provide short names to the functions of library"
   ]
  },
  {
   "cell_type": "code",
   "execution_count": 4,
   "id": "529baecb",
   "metadata": {},
   "outputs": [
    {
     "name": "stdout",
     "output_type": "stream",
     "text": [
      "Current Date and Time:  2025-07-08 17:14:48.090913\n"
     ]
    }
   ],
   "source": [
    "print('Current Date and Time: ', dt.now())"
   ]
  },
  {
   "cell_type": "code",
   "execution_count": 5,
   "id": "743dcc7a",
   "metadata": {},
   "outputs": [
    {
     "name": "stdout",
     "output_type": "stream",
     "text": [
      "Current Date: 2025-07-08\n",
      "Current Time: 17:14:56.941560\n"
     ]
    }
   ],
   "source": [
    "print('Current Date:' , dt.now().date())\n",
    "print('Current Time:', dt.now().time())"
   ]
  },
  {
   "cell_type": "code",
   "execution_count": 33,
   "id": "6a0e4cfc",
   "metadata": {},
   "outputs": [
    {
     "name": "stdout",
     "output_type": "stream",
     "text": [
      "Current Year: 2025\n",
      "Current Month: 7\n",
      "Current Date:  2025-07-05\n",
      "Current hour: 18\n",
      "Current minute: 17\n",
      "Cuurent second: 54\n",
      "Current Weekday: 5\n"
     ]
    }
   ],
   "source": [
    "print('Current Year:', dt.now().year )\n",
    "print('Current Month:', dt.now().month)\n",
    "print('Current Date: ', dt.now().date())\n",
    "print('Current hour:', dt.now().hour)\n",
    "print('Current minute:', dt.now().minute)\n",
    "print('Cuurent second:', dt.now().second)\n",
    "print('Current Weekday:', dt.now().weekday())"
   ]
  },
  {
   "cell_type": "code",
   "execution_count": 35,
   "id": "c4f818ed",
   "metadata": {},
   "outputs": [
    {
     "name": "stdout",
     "output_type": "stream",
     "text": [
      "05/07/25\n"
     ]
    }
   ],
   "source": [
    "#STRF time  is  date and time formatting\n",
    "\n",
    "date = dt.strftime(dt.now(), '%d/%m/%y')\n",
    "print(date)"
   ]
  },
  {
   "cell_type": "code",
   "execution_count": 6,
   "id": "e0366c30",
   "metadata": {},
   "outputs": [
    {
     "name": "stdout",
     "output_type": "stream",
     "text": [
      "17:15:10\n"
     ]
    }
   ],
   "source": [
    "time = dt.strftime(dt.now(), '%H:%M:%S')\n",
    "print(time)"
   ]
  },
  {
   "cell_type": "code",
   "execution_count": null,
   "id": "9694f08b",
   "metadata": {},
   "outputs": [],
   "source": []
  }
 ],
 "metadata": {
  "kernelspec": {
   "display_name": "base",
   "language": "python",
   "name": "python3"
  },
  "language_info": {
   "codemirror_mode": {
    "name": "ipython",
    "version": 3
   },
   "file_extension": ".py",
   "mimetype": "text/x-python",
   "name": "python",
   "nbconvert_exporter": "python",
   "pygments_lexer": "ipython3",
   "version": "3.13.2"
  }
 },
 "nbformat": 4,
 "nbformat_minor": 5
}
