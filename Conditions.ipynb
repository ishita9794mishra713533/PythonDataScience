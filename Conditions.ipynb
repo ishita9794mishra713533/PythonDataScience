{
 "cells": [
  {
   "cell_type": "code",
   "execution_count": null,
   "id": "2812214d",
   "metadata": {},
   "outputs": [
    {
     "name": "stdout",
     "output_type": "stream",
     "text": [
      "Hello\n",
      "world\n",
      "Done\n"
     ]
    }
   ],
   "source": [
    "a = 12\n",
    "if a>10:\n",
    "   print(\"Hello\")\n",
    "   print(\"world\")\n",
    "print(\"Done\")  \n",
    "# Colon : is used to represent the block system \n",
    "# if condition \n"
   ]
  },
  {
   "cell_type": "code",
   "execution_count": null,
   "id": "8e09d882",
   "metadata": {},
   "outputs": [
    {
     "name": "stdout",
     "output_type": "stream",
     "text": [
      "A\n",
      "B\n"
     ]
    }
   ],
   "source": [
    "marks = 85\n",
    "if marks>=90:\n",
    "    print(\"A+\")\n",
    "if marks>= 80:\n",
    "    print(\"A\")\n",
    "if marks>=60:\n",
    "    print(\"B\")\n",
    "if marks<60:\n",
    "    print(\"Fail\")\n",
    "    # it checks all the conditions "
   ]
  },
  {
   "cell_type": "code",
   "execution_count": null,
   "id": "3a91917c",
   "metadata": {},
   "outputs": [
    {
     "name": "stdout",
     "output_type": "stream",
     "text": [
      "Invalid marks\n"
     ]
    }
   ],
   "source": [
    "marks = 85\n",
    "if marks>=90:\n",
    "    print(\"A+\")\n",
    "elif marks<= 80:\n",
    "    print(\"A\")\n",
    "elif marks<=60:\n",
    "    print(\"B\")\n",
    "elif marks<60:\n",
    "    print(\"Fail\")\n",
    "else:\n",
    "    print(\"Invalid marks\")\n",
    "    # if the condition is satisfied it can stop the execution\n",
    "    "
   ]
  },
  {
   "cell_type": "code",
   "execution_count": 7,
   "id": "8d93227e",
   "metadata": {},
   "outputs": [
    {
     "name": "stdout",
     "output_type": "stream",
     "text": [
      "You are eligible to vote\n"
     ]
    }
   ],
   "source": [
    "age = 20\n",
    "if age >= 18:\n",
    "    print(\"You are eligible to vote\")\n",
    "else:\n",
    "    print(\"You are not eligible to vote\")\n",
    "    "
   ]
  },
  {
   "cell_type": "markdown",
   "id": "c6117e74",
   "metadata": {},
   "source": [
    "# Nested if Condition:"
   ]
  },
  {
   "cell_type": "markdown",
   "id": "b5ffdf38",
   "metadata": {},
   "source": [
    "In nested if condition means condition within condition, it checks all the condition one by one if the first condition is false then it will not check the another if condition ."
   ]
  },
  {
   "cell_type": "code",
   "execution_count": 2,
   "id": "6ae6dae5",
   "metadata": {},
   "outputs": [
    {
     "name": "stdout",
     "output_type": "stream",
     "text": [
      "Registration successfull 🎉\n"
     ]
    }
   ],
   "source": [
    "username = input(\"Enter your Username:\")\n",
    "Email = input(\"Enter your email:\")\n",
    "password = input(\"Enter your password:\")\n",
    "cpass = input(\"Confirm your pasword:\")\n",
    "if len(username)>=8 and len(username)<=20:\n",
    "    if '@' in Email and len(Email)>=8:\n",
    "        if len(password)>=10 and len(password)<=20:\n",
    "            if password == cpass:\n",
    "                print(\"Registration successfull 🎉\")\n",
    "            else:\n",
    "                print(\"Password mismatch 😥\")\n",
    "        else:\n",
    "            print(\"Password must be between 10 and 20 characters 😒\")\n",
    "    else:\n",
    "        print(\"Invalid email😢\")\n",
    "else:\n",
    "    print(\"Username must be between 8 and 20 characters😭 \")\n"
   ]
  },
  {
   "cell_type": "code",
   "execution_count": null,
   "id": "500cc5f8",
   "metadata": {},
   "outputs": [],
   "source": []
  }
 ],
 "metadata": {
  "kernelspec": {
   "display_name": "base",
   "language": "python",
   "name": "python3"
  },
  "language_info": {
   "codemirror_mode": {
    "name": "ipython",
    "version": 3
   },
   "file_extension": ".py",
   "mimetype": "text/x-python",
   "name": "python",
   "nbconvert_exporter": "python",
   "pygments_lexer": "ipython3",
   "version": "3.13.2"
  }
 },
 "nbformat": 4,
 "nbformat_minor": 5
}
