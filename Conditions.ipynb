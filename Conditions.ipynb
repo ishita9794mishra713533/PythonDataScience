{
 "cells": [
  {
   "cell_type": "code",
   "execution_count": null,
   "id": "2812214d",
   "metadata": {},
   "outputs": [
    {
     "name": "stdout",
     "output_type": "stream",
     "text": [
      "Hello\n",
      "world\n",
      "Done\n"
     ]
    }
   ],
   "source": [
    "a = 12\n",
    "if a>10:\n",
    "   print(\"Hello\")\n",
    "   print(\"world\")\n",
    "print(\"Done\")  \n",
    "# Colon : is used to represent the block system \n",
    "# if condition \n"
   ]
  },
  {
   "cell_type": "code",
   "execution_count": null,
   "id": "8e09d882",
   "metadata": {},
   "outputs": [
    {
     "name": "stdout",
     "output_type": "stream",
     "text": [
      "A\n",
      "B\n"
     ]
    }
   ],
   "source": [
    "marks = 85\n",
    "if marks>=90:\n",
    "    print(\"A+\")\n",
    "if marks>= 80:\n",
    "    print(\"A\")\n",
    "if marks>=60:\n",
    "    print(\"B\")\n",
    "if marks<60:\n",
    "    print(\"Fail\")\n",
    "    # it checks all the conditions "
   ]
  },
  {
   "cell_type": "code",
   "execution_count": null,
   "id": "3a91917c",
   "metadata": {},
   "outputs": [
    {
     "name": "stdout",
     "output_type": "stream",
     "text": [
      "Invalid marks\n"
     ]
    }
   ],
   "source": [
    "marks = 85\n",
    "if marks>=90:\n",
    "    print(\"A+\")\n",
    "elif marks<= 80:\n",
    "    print(\"A\")\n",
    "elif marks<=60:\n",
    "    print(\"B\")\n",
    "elif marks<60:\n",
    "    print(\"Fail\")\n",
    "else:\n",
    "    print(\"Invalid marks\")\n",
    "    # if the condition is satisfied it can stop the execution\n",
    "    "
   ]
  },
  {
   "cell_type": "code",
   "execution_count": 7,
   "id": "8d93227e",
   "metadata": {},
   "outputs": [
    {
     "name": "stdout",
     "output_type": "stream",
     "text": [
      "You are eligible to vote\n"
     ]
    }
   ],
   "source": [
    "age = 20\n",
    "if age >= 18:\n",
    "    print(\"You are eligible to vote\")\n",
    "else:\n",
    "    print(\"You are not eligible to vote\")\n",
    "    "
   ]
  },
  {
   "cell_type": "code",
   "execution_count": null,
   "id": "6ae6dae5",
   "metadata": {},
   "outputs": [],
   "source": []
  }
 ],
 "metadata": {
  "kernelspec": {
   "display_name": "base",
   "language": "python",
   "name": "python3"
  },
  "language_info": {
   "codemirror_mode": {
    "name": "ipython",
    "version": 3
   },
   "file_extension": ".py",
   "mimetype": "text/x-python",
   "name": "python",
   "nbconvert_exporter": "python",
   "pygments_lexer": "ipython3",
   "version": "3.13.2"
  }
 },
 "nbformat": 4,
 "nbformat_minor": 5
}
