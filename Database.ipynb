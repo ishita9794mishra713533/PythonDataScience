{
 "cells": [
  {
   "cell_type": "code",
   "execution_count": 9,
   "id": "81c63582",
   "metadata": {},
   "outputs": [],
   "source": [
    "from sqlalchemy import create_engine, Column, Integer, String\n",
    "from sqlalchemy.orm import declarative_base, sessionmaker"
   ]
  },
  {
   "cell_type": "markdown",
   "id": "269b0b7f",
   "metadata": {},
   "source": [
    "- create_engine : It is used to make connection from the database.\n",
    "- column : It defines columns in database\n",
    "- Integer and String : Datatype of values in database."
   ]
  },
  {
   "cell_type": "code",
   "execution_count": 10,
   "id": "2c11d60b",
   "metadata": {},
   "outputs": [],
   "source": [
    "engine = create_engine('sqlite:///user.db')\n"
   ]
  },
  {
   "cell_type": "code",
   "execution_count": 11,
   "id": "ad9bf6d1",
   "metadata": {},
   "outputs": [],
   "source": [
    "#this line is needed to create the table \n",
    "Base = declarative_base()"
   ]
  },
  {
   "cell_type": "code",
   "execution_count": 12,
   "id": "b7674523",
   "metadata": {},
   "outputs": [],
   "source": [
    "class User(Base):\n",
    "    __tablename__ = 'users'\n",
    "    id = Column(Integer, primary_key=True)\n",
    "    name = Column(String)\n",
    "    password = Column(String)"
   ]
  },
  {
   "cell_type": "code",
   "execution_count": 13,
   "id": "003356d1",
   "metadata": {},
   "outputs": [],
   "source": [
    "Base.metadata.create_all(engine)"
   ]
  },
  {
   "cell_type": "code",
   "execution_count": 14,
   "id": "54b30b8e",
   "metadata": {},
   "outputs": [],
   "source": [
    "Session = sessionmaker(bind=engine)  #this line tells the sessionmaker to use the engine we created\n",
    "session = Session()   #this line creates a session object"
   ]
  },
  {
   "cell_type": "code",
   "execution_count": 15,
   "id": "886a6ebc",
   "metadata": {},
   "outputs": [],
   "source": [
    "#add a new user\n",
    "new_user = User(name=\"Alice\", password='27536')\n",
    "session.add(new_user)\n",
    "session.commit()"
   ]
  },
  {
   "cell_type": "code",
   "execution_count": 16,
   "id": "73104e2e",
   "metadata": {},
   "outputs": [],
   "source": [
    "#add a new user\n",
    "new_user = User(name=\"John\", password='abrakadabra')\n",
    "session.add(new_user)\n",
    "session.commit()"
   ]
  },
  {
   "cell_type": "code",
   "execution_count": 19,
   "id": "fca87f05",
   "metadata": {},
   "outputs": [],
   "source": [
    "#add a new user\n",
    "new_user = User(name=\"Navya\", password='2504')\n",
    "session.add(new_user)\n",
    "session.commit()"
   ]
  },
  {
   "cell_type": "code",
   "execution_count": null,
   "id": "480b77ad",
   "metadata": {},
   "outputs": [
    {
     "name": "stdout",
     "output_type": "stream",
     "text": [
      "ID: 1,Name: Alice, Password: 27536\n",
      "ID: 2,Name: John, Password: abrakadabra\n",
      "ID: 3,Name: Navya, Password: 8973\n",
      "ID: 4,Name: Navya, Password: 2504\n"
     ]
    }
   ],
   "source": [
    "#retrieve all users\n",
    "users = session.query(User).all()\n",
    "# .all() : It is used to display all the data.\n",
    "for user in users:\n",
    "    print(f'ID: {user.id},Name: {user.name}, Password: {user.password}')"
   ]
  },
  {
   "cell_type": "code",
   "execution_count": 21,
   "id": "56998dfe",
   "metadata": {},
   "outputs": [],
   "source": [
    "#update the user\n",
    "user = session.query(User).filter_by(id = 3).first()\n",
    "user.name = 'Eshita'\n",
    "session.commit()"
   ]
  },
  {
   "cell_type": "code",
   "execution_count": 22,
   "id": "5ed94d61",
   "metadata": {},
   "outputs": [
    {
     "name": "stdout",
     "output_type": "stream",
     "text": [
      "ID: 1,Name: Alice, Password: 27536\n",
      "ID: 2,Name: John, Password: abrakadabra\n",
      "ID: 3,Name: Eshita, Password: 8973\n",
      "ID: 4,Name: Navya, Password: 2504\n"
     ]
    }
   ],
   "source": [
    "#retrieve all users\n",
    "users = session.query(User).all()\n",
    "# .all() : It is used to display all the data.\n",
    "for user in users:\n",
    "    print(f'ID: {user.id},Name: {user.name}, Password: {user.password}')"
   ]
  },
  {
   "cell_type": "code",
   "execution_count": 23,
   "id": "e64b6a1a",
   "metadata": {},
   "outputs": [],
   "source": [
    "#delete a user\n",
    "user = session.query(User).filter_by(id = 2).first()\n",
    "session.delete(user)\n",
    "session.commit()"
   ]
  },
  {
   "cell_type": "code",
   "execution_count": 24,
   "id": "af77e539",
   "metadata": {},
   "outputs": [
    {
     "name": "stdout",
     "output_type": "stream",
     "text": [
      "ID: 1,Name: Alice, Password: 27536\n",
      "ID: 3,Name: Eshita, Password: 8973\n",
      "ID: 4,Name: Navya, Password: 2504\n"
     ]
    }
   ],
   "source": [
    "#retrieve all users\n",
    "users = session.query(User).all()\n",
    "# .all() : It is used to display all the data.\n",
    "for user in users:\n",
    "    print(f'ID: {user.id},Name: {user.name}, Password: {user.password}')"
   ]
  },
  {
   "cell_type": "code",
   "execution_count": null,
   "id": "05e47e25",
   "metadata": {},
   "outputs": [],
   "source": []
  }
 ],
 "metadata": {
  "kernelspec": {
   "display_name": "base",
   "language": "python",
   "name": "python3"
  },
  "language_info": {
   "codemirror_mode": {
    "name": "ipython",
    "version": 3
   },
   "file_extension": ".py",
   "mimetype": "text/x-python",
   "name": "python",
   "nbconvert_exporter": "python",
   "pygments_lexer": "ipython3",
   "version": "3.13.2"
  }
 },
 "nbformat": 4,
 "nbformat_minor": 5
}
