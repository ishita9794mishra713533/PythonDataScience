{
 "cells": [
  {
   "cell_type": "markdown",
   "id": "9e8c3d70",
   "metadata": {},
   "source": [
    "# List"
   ]
  },
  {
   "cell_type": "code",
   "execution_count": 1,
   "id": "f08d2fb9",
   "metadata": {},
   "outputs": [
    {
     "name": "stdout",
     "output_type": "stream",
     "text": [
      "['Whatsapp', 'Instagram', 'Snapchat', 'Facebook', 'YouTube', 'Netflix', 'Telegram', 'Spotify', 'Amazon', 'Google Maps', 'Gmail']\n"
     ]
    }
   ],
   "source": [
    "Apps = ['Whatsapp', 'Instagram', 'Snapchat', 'Facebook', 'YouTube', 'Netflix', 'Telegram', 'Spotify', 'Amazon', 'Google Maps', 'Gmail']\n",
    "print(Apps)"
   ]
  },
  {
   "cell_type": "markdown",
   "id": "0cc929d3",
   "metadata": {},
   "source": [
    "Indexing & Slicing"
   ]
  },
  {
   "cell_type": "markdown",
   "id": "7e485940",
   "metadata": {},
   "source": [
    "Indexing"
   ]
  },
  {
   "cell_type": "code",
   "execution_count": 3,
   "id": "5367ff07",
   "metadata": {},
   "outputs": [
    {
     "name": "stdout",
     "output_type": "stream",
     "text": [
      "YouTube\n"
     ]
    }
   ],
   "source": [
    "print(Apps[4])"
   ]
  },
  {
   "cell_type": "code",
   "execution_count": 4,
   "id": "73a9d2a4",
   "metadata": {},
   "outputs": [
    {
     "name": "stdout",
     "output_type": "stream",
     "text": [
      "Telegram\n"
     ]
    }
   ],
   "source": [
    "print(Apps[6])"
   ]
  },
  {
   "cell_type": "code",
   "execution_count": 5,
   "id": "68319a9a",
   "metadata": {},
   "outputs": [
    {
     "name": "stdout",
     "output_type": "stream",
     "text": [
      "Amazon\n"
     ]
    }
   ],
   "source": [
    "print(Apps[-3])"
   ]
  },
  {
   "cell_type": "code",
   "execution_count": 6,
   "id": "f13e0a99",
   "metadata": {},
   "outputs": [
    {
     "name": "stdout",
     "output_type": "stream",
     "text": [
      "YouTube\n"
     ]
    }
   ],
   "source": [
    "print(Apps[-7])"
   ]
  },
  {
   "cell_type": "markdown",
   "id": "71814402",
   "metadata": {},
   "source": [
    "Slicing"
   ]
  },
  {
   "cell_type": "code",
   "execution_count": 7,
   "id": "febad733",
   "metadata": {},
   "outputs": [
    {
     "name": "stdout",
     "output_type": "stream",
     "text": [
      "['Whatsapp', 'Instagram', 'Snapchat', 'Facebook']\n"
     ]
    }
   ],
   "source": [
    "print(Apps[0:4])"
   ]
  },
  {
   "cell_type": "code",
   "execution_count": 8,
   "id": "b570c0aa",
   "metadata": {},
   "outputs": [
    {
     "name": "stdout",
     "output_type": "stream",
     "text": [
      "['Whatsapp', 'Snapchat', 'YouTube', 'Telegram', 'Amazon', 'Gmail']\n"
     ]
    }
   ],
   "source": [
    "print(Apps[::2])"
   ]
  },
  {
   "cell_type": "code",
   "execution_count": 9,
   "id": "6121e34a",
   "metadata": {},
   "outputs": [
    {
     "name": "stdout",
     "output_type": "stream",
     "text": [
      "['Whatsapp', 'Instagram', 'Snapchat', 'Facebook', 'YouTube', 'Netflix', 'Telegram', 'Spotify', 'Amazon', 'Google Maps']\n"
     ]
    }
   ],
   "source": [
    "print(Apps[0:-1])"
   ]
  },
  {
   "cell_type": "code",
   "execution_count": 10,
   "id": "d62b8616",
   "metadata": {},
   "outputs": [
    {
     "name": "stdout",
     "output_type": "stream",
     "text": [
      "['Instagram', 'Snapchat', 'Facebook', 'YouTube']\n"
     ]
    }
   ],
   "source": [
    "print(Apps[1:5])\n"
   ]
  },
  {
   "cell_type": "markdown",
   "id": "bb3c5954",
   "metadata": {},
   "source": [
    "It will also execute before last position just like range function. "
   ]
  },
  {
   "cell_type": "code",
   "execution_count": 11,
   "id": "b2816e40",
   "metadata": {},
   "outputs": [
    {
     "name": "stdout",
     "output_type": "stream",
     "text": [
      "['Instagram', 'Facebook', 'Netflix']\n"
     ]
    }
   ],
   "source": [
    "print(Apps[1:7:2])"
   ]
  },
  {
   "cell_type": "code",
   "execution_count": 12,
   "id": "70cc2001",
   "metadata": {},
   "outputs": [
    {
     "name": "stdout",
     "output_type": "stream",
     "text": [
      "['Whatsapp', 'Instagram', 'Snapchat', 'Facebook', 'YouTube', 'Netflix', 'Telegram', 'Spotify', 'Amazon', 'Google Maps', 'Gmail']\n"
     ]
    }
   ],
   "source": [
    "print(Apps[:])"
   ]
  },
  {
   "cell_type": "code",
   "execution_count": 13,
   "id": "b1b73251",
   "metadata": {},
   "outputs": [
    {
     "name": "stdout",
     "output_type": "stream",
     "text": [
      "['Whatsapp', 'Instagram', 'Snapchat', 'Facebook', 'YouTube', 'Netflix', 'Telegram', 'Spotify', 'Amazon', 'Google Maps', 'Gmail']\n"
     ]
    }
   ],
   "source": [
    "print(Apps[::])"
   ]
  },
  {
   "cell_type": "code",
   "execution_count": 14,
   "id": "81f6690f",
   "metadata": {},
   "outputs": [
    {
     "name": "stdout",
     "output_type": "stream",
     "text": [
      "[]\n"
     ]
    }
   ],
   "source": [
    "print(Apps[-1:-4])"
   ]
  },
  {
   "cell_type": "code",
   "execution_count": 15,
   "id": "13a7057b",
   "metadata": {},
   "outputs": [
    {
     "name": "stdout",
     "output_type": "stream",
     "text": [
      "['Netflix', 'Telegram', 'Spotify', 'Amazon', 'Google Maps']\n"
     ]
    }
   ],
   "source": [
    "print(Apps[-6:-1])"
   ]
  },
  {
   "cell_type": "markdown",
   "id": "9a1a1a60",
   "metadata": {},
   "source": [
    "In negative indexing , execution will start from left to right as positive indexing."
   ]
  },
  {
   "cell_type": "code",
   "execution_count": 16,
   "id": "e1ff9b5e",
   "metadata": {},
   "outputs": [
    {
     "name": "stdout",
     "output_type": "stream",
     "text": [
      "['Telegram', 'Spotify', 'Amazon', 'Google Maps', 'Gmail']\n"
     ]
    }
   ],
   "source": [
    "print(Apps[-5:])"
   ]
  },
  {
   "cell_type": "markdown",
   "id": "13ee6e25",
   "metadata": {},
   "source": [
    "# LIST METHODS"
   ]
  },
  {
   "cell_type": "markdown",
   "id": "b14624fb",
   "metadata": {},
   "source": [
    "- append() - to add an element at the end of the list\n",
    "- insert() - to add item at any specific position in the list\n",
    "- pop() - to delete item using its index position\n",
    "- remove() - to delete items using item name\n",
    "- copy() - to make a duplicate of the list\n",
    "- sort() - to sort the list in a particular order\n",
    "- extend() - to combine two list into a single list\n",
    "- clear() - to delete all the items from the list but not the list"
   ]
  },
  {
   "cell_type": "code",
   "execution_count": 17,
   "id": "82a396ee",
   "metadata": {},
   "outputs": [],
   "source": [
    "Apps.append('Zomato')"
   ]
  },
  {
   "cell_type": "code",
   "execution_count": 18,
   "id": "6d00e309",
   "metadata": {},
   "outputs": [
    {
     "name": "stdout",
     "output_type": "stream",
     "text": [
      "['Whatsapp', 'Instagram', 'Snapchat', 'Facebook', 'YouTube', 'Netflix', 'Telegram', 'Spotify', 'Amazon', 'Google Maps', 'Gmail', 'Zomato']\n"
     ]
    }
   ],
   "source": [
    "print(Apps)"
   ]
  },
  {
   "cell_type": "code",
   "execution_count": 19,
   "id": "baffc572",
   "metadata": {},
   "outputs": [
    {
     "name": "stdout",
     "output_type": "stream",
     "text": [
      "['Whatsapp', 'Instagram', 'Snapchat', 'Swiggy', 'Facebook', 'YouTube', 'Netflix', 'Telegram', 'Spotify', 'Amazon', 'Google Maps', 'Gmail', 'Zomato']\n"
     ]
    }
   ],
   "source": [
    "Apps.insert(3,'Swiggy')\n",
    "print(Apps)"
   ]
  },
  {
   "cell_type": "code",
   "execution_count": 20,
   "id": "a5db865a",
   "metadata": {},
   "outputs": [
    {
     "name": "stdout",
     "output_type": "stream",
     "text": [
      "['Whatsapp', 'Instagram', 'Swiggy', 'Facebook', 'YouTube', 'Netflix', 'Telegram', 'Spotify', 'Amazon', 'Google Maps', 'Gmail', 'Zomato']\n"
     ]
    }
   ],
   "source": [
    "Apps.pop(2)\n",
    "print(Apps)"
   ]
  },
  {
   "cell_type": "code",
   "execution_count": 21,
   "id": "de551fe2",
   "metadata": {},
   "outputs": [
    {
     "data": {
      "text/plain": [
       "'Zomato'"
      ]
     },
     "execution_count": 21,
     "metadata": {},
     "output_type": "execute_result"
    }
   ],
   "source": [
    "Apps.pop()"
   ]
  },
  {
   "cell_type": "markdown",
   "id": "8b048d0e",
   "metadata": {},
   "source": [
    "By default it will delete the last element."
   ]
  },
  {
   "cell_type": "code",
   "execution_count": 22,
   "id": "1b5790a6",
   "metadata": {},
   "outputs": [],
   "source": [
    "Apps.remove('Spotify')"
   ]
  },
  {
   "cell_type": "code",
   "execution_count": 23,
   "id": "efdc8685",
   "metadata": {},
   "outputs": [
    {
     "name": "stdout",
     "output_type": "stream",
     "text": [
      "['Whatsapp', 'Instagram', 'Swiggy', 'Facebook', 'YouTube', 'Netflix', 'Telegram', 'Amazon', 'Google Maps', 'Gmail']\n"
     ]
    }
   ],
   "source": [
    "print(Apps)"
   ]
  },
  {
   "cell_type": "code",
   "execution_count": 24,
   "id": "30d55a92",
   "metadata": {},
   "outputs": [
    {
     "name": "stdout",
     "output_type": "stream",
     "text": [
      "['Whatsapp', 'Instagram', 'Swiggy', 'Facebook', 'YouTube', 'Netflix', 'Telegram', 'Amazon', 'Google Maps', 'Gmail']\n"
     ]
    }
   ],
   "source": [
    "copy_Apps = Apps.copy()\n",
    "print(copy_Apps)"
   ]
  },
  {
   "cell_type": "code",
   "execution_count": 25,
   "id": "c18eba08",
   "metadata": {},
   "outputs": [
    {
     "name": "stdout",
     "output_type": "stream",
     "text": [
      "[]\n"
     ]
    }
   ],
   "source": [
    "copy_Apps.clear()\n",
    "print(copy_Apps)"
   ]
  },
  {
   "cell_type": "markdown",
   "id": "b42ea6c5",
   "metadata": {},
   "source": [
    "In sorting method, if alphabets contains of both cases then it will sort the uppercase alphabets first then the lowercase will sort."
   ]
  },
  {
   "cell_type": "code",
   "execution_count": 26,
   "id": "e0b4fb02",
   "metadata": {},
   "outputs": [
    {
     "name": "stdout",
     "output_type": "stream",
     "text": [
      "['Amazon', 'Facebook', 'Gmail', 'Google Maps', 'Instagram', 'Netflix', 'Swiggy', 'Telegram', 'Whatsapp', 'YouTube']\n"
     ]
    }
   ],
   "source": [
    "Apps.sort()\n",
    "print(Apps)"
   ]
  },
  {
   "cell_type": "code",
   "execution_count": 27,
   "id": "9983851a",
   "metadata": {},
   "outputs": [
    {
     "name": "stdout",
     "output_type": "stream",
     "text": [
      "['Amazon', 'Facebook', 'Gmail', 'Google Maps', 'Instagram', 'Netflix', 'Swiggy', 'Telegram', 'Whatsapp', 'YouTube', 'Google', 'LinkedIn', 'Naukri.com']\n"
     ]
    }
   ],
   "source": [
    "Apps2 = ['Google', 'LinkedIn', 'Naukri.com']\n",
    "Apps.extend(Apps2)\n",
    "print(Apps)"
   ]
  },
  {
   "cell_type": "code",
   "execution_count": null,
   "id": "62c4a1c8",
   "metadata": {},
   "outputs": [],
   "source": []
  }
 ],
 "metadata": {
  "kernelspec": {
   "display_name": "base",
   "language": "python",
   "name": "python3"
  },
  "language_info": {
   "codemirror_mode": {
    "name": "ipython",
    "version": 3
   },
   "file_extension": ".py",
   "mimetype": "text/x-python",
   "name": "python",
   "nbconvert_exporter": "python",
   "pygments_lexer": "ipython3",
   "version": "3.13.2"
  }
 },
 "nbformat": 4,
 "nbformat_minor": 5
}
