{
 "cells": [
  {
   "cell_type": "markdown",
   "id": "525d4be1",
   "metadata": {},
   "source": [
    "# Loops in Python"
   ]
  },
  {
   "cell_type": "markdown",
   "id": "cfbe3451",
   "metadata": {},
   "source": [
    "1. For Loop"
   ]
  },
  {
   "cell_type": "code",
   "execution_count": null,
   "id": "aea97800",
   "metadata": {},
   "outputs": [
    {
     "name": "stdout",
     "output_type": "stream",
     "text": [
      "apple\n",
      "banana\n",
      "cherry\n",
      "date\n",
      "blueberry\n"
     ]
    }
   ],
   "source": [
    "fruits = ['apple', 'banana','cherry', 'date', 'blueberry']\n",
    "for i in fruits:\n",
    "    print(i)"
   ]
  },
  {
   "cell_type": "code",
   "execution_count": null,
   "id": "e5ec68e5",
   "metadata": {},
   "outputs": [
    {
     "name": "stdout",
     "output_type": "stream",
     "text": [
      "2\n",
      "3\n",
      "4\n",
      "5\n",
      "6\n",
      "7\n",
      "8\n",
      "9\n"
     ]
    }
   ],
   "source": [
    "for i in range(2,10):\n",
    "    print(i)"
   ]
  },
  {
   "cell_type": "code",
   "execution_count": null,
   "id": "0f1a19eb",
   "metadata": {},
   "outputs": [
    {
     "name": "stdout",
     "output_type": "stream",
     "text": [
      "2\n",
      "4\n",
      "6\n",
      "8\n"
     ]
    }
   ],
   "source": [
    "for i in range(2,10,2):\n",
    "    print(i)"
   ]
  },
  {
   "cell_type": "markdown",
   "id": "eaf8a0c5",
   "metadata": {},
   "source": [
    "it also count the element which is already printed ."
   ]
  },
  {
   "cell_type": "markdown",
   "id": "f526ecfa",
   "metadata": {},
   "source": [
    "Ques  Write the program using for loop to print the name 10 times.\n"
   ]
  },
  {
   "cell_type": "code",
   "execution_count": null,
   "id": "6f51874f",
   "metadata": {},
   "outputs": [
    {
     "name": "stdout",
     "output_type": "stream",
     "text": [
      "Ishita Mishra\n",
      "Ishita Mishra\n",
      "Ishita Mishra\n",
      "Ishita Mishra\n",
      "Ishita Mishra\n",
      "Ishita Mishra\n",
      "Ishita Mishra\n",
      "Ishita Mishra\n",
      "Ishita Mishra\n",
      "Ishita Mishra\n",
      "Ishita Mishra\n"
     ]
    }
   ],
   "source": [
    "Name = 'Ishita Mishra'\n",
    "for  i  in range(11):\n",
    "    print(Name)\n"
   ]
  },
  {
   "cell_type": "markdown",
   "id": "c9baca2f",
   "metadata": {},
   "source": [
    "Ques  Write the program using for loop to print the even numbers from 0 to 20 but without condition."
   ]
  },
  {
   "cell_type": "code",
   "execution_count": null,
   "id": "4e3c58b0",
   "metadata": {},
   "outputs": [
    {
     "name": "stdout",
     "output_type": "stream",
     "text": [
      "0\n",
      "2\n",
      "4\n",
      "6\n",
      "8\n",
      "10\n",
      "12\n",
      "14\n",
      "16\n",
      "18\n",
      "20\n"
     ]
    }
   ],
   "source": [
    "for i in range(0,21,2):\n",
    "    print(i)"
   ]
  },
  {
   "cell_type": "markdown",
   "id": "6ecce03e",
   "metadata": {},
   "source": [
    "Ques  Write the program using for loop to print the odd numbers from 0 to 20."
   ]
  },
  {
   "cell_type": "code",
   "execution_count": null,
   "id": "cbdb52f6",
   "metadata": {},
   "outputs": [
    {
     "name": "stdout",
     "output_type": "stream",
     "text": [
      "1\n",
      "3\n",
      "5\n",
      "7\n",
      "9\n",
      "11\n",
      "13\n",
      "15\n",
      "17\n",
      "19\n"
     ]
    }
   ],
   "source": [
    "for i in range(0,21):\n",
    "    if (i%2!=0):\n",
    "        print(i)\n",
    "    "
   ]
  },
  {
   "cell_type": "markdown",
   "id": "c2b6d4ae",
   "metadata": {},
   "source": [
    "While Loop"
   ]
  },
  {
   "cell_type": "markdown",
   "id": "fe7c8980",
   "metadata": {},
   "source": [
    "Write the program using while loop to print 10 numbers from 0 to 10."
   ]
  },
  {
   "cell_type": "code",
   "execution_count": null,
   "id": "4c743907",
   "metadata": {},
   "outputs": [
    {
     "name": "stdout",
     "output_type": "stream",
     "text": [
      "0\n",
      "1\n",
      "2\n",
      "3\n",
      "4\n",
      "5\n",
      "6\n",
      "7\n",
      "8\n",
      "9\n",
      "10\n"
     ]
    }
   ],
   "source": [
    "i = 0\n",
    "while i<=10:\n",
    "    print(i)\n",
    "    i +=1"
   ]
  },
  {
   "cell_type": "markdown",
   "id": "f86d5ea5",
   "metadata": {},
   "source": [
    "Ques  Write the program using while loop to print the name 10 times.\n"
   ]
  },
  {
   "cell_type": "code",
   "execution_count": null,
   "id": "fb29bf50",
   "metadata": {},
   "outputs": [
    {
     "name": "stdout",
     "output_type": "stream",
     "text": [
      "Ishita Mishra\n",
      "Ishita Mishra\n",
      "Ishita Mishra\n",
      "Ishita Mishra\n",
      "Ishita Mishra\n",
      "Ishita Mishra\n",
      "Ishita Mishra\n",
      "Ishita Mishra\n",
      "Ishita Mishra\n",
      "Ishita Mishra\n",
      "Ishita Mishra\n"
     ]
    }
   ],
   "source": [
    "Name = 'Ishita Mishra'\n",
    "i = 0\n",
    "while i<=10:\n",
    "    print(Name)\n",
    "    i +=1\n",
    "    "
   ]
  },
  {
   "cell_type": "markdown",
   "id": "d82e7d05",
   "metadata": {},
   "source": [
    "Ques   Write the program using while loop to print the even numbers from 0 to 20 without condition."
   ]
  },
  {
   "cell_type": "code",
   "execution_count": null,
   "id": "f2fced2e",
   "metadata": {},
   "outputs": [
    {
     "name": "stdout",
     "output_type": "stream",
     "text": [
      "0\n",
      "2\n",
      "4\n",
      "6\n",
      "8\n",
      "10\n",
      "12\n",
      "14\n",
      "16\n",
      "18\n",
      "20\n"
     ]
    }
   ],
   "source": [
    "i = 0\n",
    "while(i<=20):\n",
    "    print(i)\n",
    "    i+=2"
   ]
  },
  {
   "cell_type": "markdown",
   "id": "2bff03d6",
   "metadata": {},
   "source": [
    "Ques.  Write the program using while loop to print the odd numbers from 0 to 20."
   ]
  },
  {
   "cell_type": "code",
   "execution_count": null,
   "id": "76aa4ad1",
   "metadata": {},
   "outputs": [
    {
     "name": "stdout",
     "output_type": "stream",
     "text": [
      "1\n",
      "3\n",
      "5\n",
      "7\n",
      "9\n",
      "11\n",
      "13\n",
      "15\n",
      "17\n",
      "19\n"
     ]
    }
   ],
   "source": [
    "i = 0\n",
    "while (i<=20):\n",
    "    if(i%2!=0):\n",
    "        print(i)\n",
    "    i+=1\n",
    "    \n",
    "\n",
    "\n"
   ]
  },
  {
   "cell_type": "markdown",
   "id": "44448ceb",
   "metadata": {},
   "source": [
    "# Break and Continue"
   ]
  },
  {
   "cell_type": "code",
   "execution_count": null,
   "id": "69a33806",
   "metadata": {},
   "outputs": [
    {
     "name": "stdout",
     "output_type": "stream",
     "text": [
      "apple\n",
      "banana\n",
      "cherry\n",
      "date\n",
      "blueberry\n"
     ]
    }
   ],
   "source": [
    "fruits = ['apple', 'banana','cherry', 'date', 'blueberry', 'onion', 'banana', 'Kiwi', 'apple']\n",
    "for i in fruits:\n",
    "    if i == 'onion':\n",
    "        break\n",
    "    print(i)\n"
   ]
  },
  {
   "cell_type": "code",
   "execution_count": null,
   "id": "db92e697",
   "metadata": {},
   "outputs": [
    {
     "name": "stdout",
     "output_type": "stream",
     "text": [
      "apple\n",
      "banana\n",
      "cherry\n",
      "date\n",
      "blueberry\n",
      "banana\n",
      "Kiwi\n",
      "apple\n"
     ]
    }
   ],
   "source": [
    "fruits = ['apple', 'banana','cherry', 'date', 'blueberry', 'onion', 'banana', 'Kiwi', 'apple']\n",
    "for i in fruits:\n",
    "    if i == 'onion':\n",
    "        continue\n",
    "    print(i)\n"
   ]
  },
  {
   "cell_type": "code",
   "execution_count": null,
   "id": "9f5c2f78",
   "metadata": {},
   "outputs": [
    {
     "name": "stdout",
     "output_type": "stream",
     "text": [
      "apple\n",
      "banana\n",
      "cherry\n",
      "date\n",
      "blueberry\n",
      "onion\n",
      "banana\n",
      "Kiwi\n",
      "apple\n"
     ]
    }
   ],
   "source": [
    "fruits = ['apple', 'banana','cherry', 'date', 'blueberry', 'onion', 'banana', 'Kiwi', 'apple']\n",
    "for i in fruits:\n",
    "    if i == 'onion':\n",
    "        pass\n",
    "    print(i)\n"
   ]
  },
  {
   "cell_type": "code",
   "execution_count": 4,
   "id": "863c014d",
   "metadata": {},
   "outputs": [
    {
     "name": "stdout",
     "output_type": "stream",
     "text": [
      "1\n",
      "2\n",
      "3\n",
      "\n",
      "1\n",
      "2\n",
      "3\n",
      "\n",
      "1\n",
      "2\n",
      "3\n",
      "\n"
     ]
    }
   ],
   "source": [
    "for i in range(3):\n",
    "    for j in range(1,4):\n",
    "        print(j)\n",
    "    print()"
   ]
  },
  {
   "cell_type": "code",
   "execution_count": 7,
   "id": "be81d55c",
   "metadata": {},
   "outputs": [
    {
     "name": "stdout",
     "output_type": "stream",
     "text": [
      "1\n",
      "2\n",
      "3\n",
      "\n",
      "1\n",
      "2\n",
      "3\n",
      "\n",
      "1\n",
      "2\n",
      "3\n",
      "\n"
     ]
    }
   ],
   "source": [
    "i = 1\n",
    "while i<4:\n",
    "    for j in range(1,4):\n",
    "        print(j)\n",
    "    print()\n",
    "    i +=1"
   ]
  },
  {
   "cell_type": "code",
   "execution_count": 8,
   "id": "22379ef9",
   "metadata": {},
   "outputs": [
    {
     "name": "stdout",
     "output_type": "stream",
     "text": [
      "3\n",
      "5\n",
      "5\n",
      "5\n",
      "7\n",
      "7\n",
      "7\n",
      "7\n",
      "7\n",
      "9\n"
     ]
    }
   ],
   "source": [
    "for num in range(2,10):\n",
    "    for i in range(2,num):\n",
    "        if num%i ==0:\n",
    "            break\n",
    "        else:\n",
    "            print(num)"
   ]
  },
  {
   "cell_type": "code",
   "execution_count": null,
   "id": "5b80095f",
   "metadata": {},
   "outputs": [],
   "source": []
  }
 ],
 "metadata": {
  "kernelspec": {
   "display_name": "base",
   "language": "python",
   "name": "python3"
  },
  "language_info": {
   "codemirror_mode": {
    "name": "ipython",
    "version": 3
   },
   "file_extension": ".py",
   "mimetype": "text/x-python",
   "name": "python",
   "nbconvert_exporter": "python",
   "pygments_lexer": "ipython3",
   "version": "3.13.2"
  }
 },
 "nbformat": 4,
 "nbformat_minor": 5
}
